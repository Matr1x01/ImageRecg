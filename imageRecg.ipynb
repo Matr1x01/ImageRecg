{
 "metadata": {
  "language_info": {
   "codemirror_mode": {
    "name": "ipython",
    "version": 3
   },
   "file_extension": ".py",
   "mimetype": "text/x-python",
   "name": "python",
   "nbconvert_exporter": "python",
   "pygments_lexer": "ipython3",
   "version": "3.8.5"
  },
  "orig_nbformat": 2,
  "kernelspec": {
   "name": "python385jvsc74a57bd0b3ba2566441a7c06988d0923437866b63cedc61552a5af99d1f4fb67d367b25f",
   "display_name": "Python 3.8.5 64-bit ('base': conda)"
  }
 },
 "nbformat": 4,
 "nbformat_minor": 2,
 "cells": [
  {
   "cell_type": "code",
   "execution_count": 2,
   "metadata": {},
   "outputs": [],
   "source": [
    "import numpy as np\n",
    "import matplotlib.pyplot as plt\n",
    "import cv2\n",
    "from keras.models import Sequential\n",
    "from keras.layers.core import Dense, Activation\n",
    "from keras.utils import np_utils\n",
    "import keras.models as md\n",
    "import pandas as pd"
   ]
  },
  {
   "cell_type": "code",
   "execution_count": 5,
   "metadata": {},
   "outputs": [],
   "source": [
    "path=r\"G:\\dataset\\cifar-10\""
   ]
  },
  {
   "cell_type": "code",
   "execution_count": 6,
   "metadata": {},
   "outputs": [],
   "source": [
    "lable=pd.read_csv(path+\"\\\\\"+\"trainLabels.csv\")\n",
    "keys=lable.keys()"
   ]
  },
  {
   "cell_type": "code",
   "execution_count": 4,
   "metadata": {},
   "outputs": [],
   "source": [
    "data=[]\n",
    "for i in lable[\"id\"]:\n",
    "    temp=cv2.imread(path+\"\\\\train\\\\\"+str(i)+\".png\")\n",
    "    data.append(temp)\n",
    "data=np.array(data)"
   ]
  },
  {
   "cell_type": "code",
   "execution_count": 4,
   "metadata": {},
   "outputs": [
    {
     "output_type": "error",
     "ename": "NameError",
     "evalue": "name 'lable' is not defined",
     "traceback": [
      "\u001b[1;31m---------------------------------------------------------------------------\u001b[0m",
      "\u001b[1;31mNameError\u001b[0m                                 Traceback (most recent call last)",
      "\u001b[1;32m<ipython-input-4-8c643a74dc00>\u001b[0m in \u001b[0;36m<module>\u001b[1;34m\u001b[0m\n\u001b[1;32m----> 1\u001b[1;33m \u001b[0mcategoris\u001b[0m\u001b[1;33m=\u001b[0m\u001b[0mlist\u001b[0m\u001b[1;33m(\u001b[0m\u001b[0mset\u001b[0m\u001b[1;33m(\u001b[0m\u001b[0mlable\u001b[0m\u001b[1;33m[\u001b[0m\u001b[0mkeys\u001b[0m\u001b[1;33m[\u001b[0m\u001b[1;36m1\u001b[0m\u001b[1;33m]\u001b[0m\u001b[1;33m]\u001b[0m\u001b[1;33m)\u001b[0m\u001b[1;33m)\u001b[0m\u001b[1;33m\u001b[0m\u001b[1;33m\u001b[0m\u001b[0m\n\u001b[0m\u001b[0;32m      2\u001b[0m \u001b[0mcategoris\u001b[0m\u001b[1;33m\u001b[0m\u001b[1;33m\u001b[0m\u001b[0m\n",
      "\u001b[1;31mNameError\u001b[0m: name 'lable' is not defined"
     ]
    }
   ],
   "source": [
    "categoris=list(set(lable[keys[1]]))"
   ]
  },
  {
   "cell_type": "code",
   "execution_count": 41,
   "metadata": {},
   "outputs": [
    {
     "output_type": "stream",
     "name": "stderr",
     "text": [
      "<ipython-input-41-34a4881210db>:4: SettingWithCopyWarning: \nA value is trying to be set on a copy of a slice from a DataFrame\n\nSee the caveats in the documentation: https://pandas.pydata.org/pandas-docs/stable/user_guide/indexing.html#returning-a-view-versus-a-copy\n  lable[keys[1]][i]=j\n"
     ]
    }
   ],
   "source": [
    "for i in range(len(lable)):\n",
    "    for j in range(10):\n",
    "        if lable[keys[1]][i]==categoris[j]:\n",
    "            lable[keys[1]][i]=j"
   ]
  },
  {
   "cell_type": "code",
   "execution_count": 7,
   "metadata": {},
   "outputs": [],
   "source": [
    "input_size=32*32*3\n",
    "output_size=10\n",
    "hidden1=1024\n",
    "hidden2=512\n",
    "hidden3=128"
   ]
  },
  {
   "cell_type": "code",
   "execution_count": 25,
   "metadata": {},
   "outputs": [],
   "source": [
    "trainLabels=np_utils.to_categorical(lable[keys[1]], output_size)\n",
    "temp=[]\n",
    "for i in range(len(data)):\n",
    "    temp.append(data[i].flatten())\n",
    "data=np.array(temp)/255\n"
   ]
  },
  {
   "cell_type": "code",
   "execution_count": 26,
   "metadata": {},
   "outputs": [
    {
     "output_type": "stream",
     "name": "stdout",
     "text": [
      "Epoch 1/100\n",
      "391/391 - 14s - loss: 1.9326 - accuracy: 0.3003\n",
      "Epoch 2/100\n",
      "391/391 - 15s - loss: 1.7019 - accuracy: 0.3884\n",
      "Epoch 3/100\n",
      "391/391 - 15s - loss: 1.5964 - accuracy: 0.4279\n",
      "Epoch 4/100\n",
      "391/391 - 14s - loss: 1.5366 - accuracy: 0.4505\n",
      "Epoch 5/100\n",
      "391/391 - 13s - loss: 1.4825 - accuracy: 0.4678\n",
      "Epoch 6/100\n",
      "391/391 - 14s - loss: 1.4480 - accuracy: 0.4804\n",
      "Epoch 7/100\n",
      "391/391 - 13s - loss: 1.4074 - accuracy: 0.4970\n",
      "Epoch 8/100\n",
      "391/391 - 13s - loss: 1.3733 - accuracy: 0.5104\n",
      "Epoch 9/100\n",
      "391/391 - 13s - loss: 1.3449 - accuracy: 0.5205\n",
      "Epoch 10/100\n",
      "391/391 - 13s - loss: 1.3164 - accuracy: 0.5273\n",
      "Epoch 11/100\n",
      "391/391 - 13s - loss: 1.2869 - accuracy: 0.5402\n",
      "Epoch 12/100\n",
      "391/391 - 13s - loss: 1.2548 - accuracy: 0.5508\n",
      "Epoch 13/100\n",
      "391/391 - 13s - loss: 1.2266 - accuracy: 0.5614\n",
      "Epoch 14/100\n",
      "391/391 - 13s - loss: 1.2036 - accuracy: 0.5697\n",
      "Epoch 15/100\n",
      "391/391 - 13s - loss: 1.1684 - accuracy: 0.5817\n",
      "Epoch 16/100\n",
      "391/391 - 14s - loss: 1.1480 - accuracy: 0.5901\n",
      "Epoch 17/100\n",
      "391/391 - 14s - loss: 1.1262 - accuracy: 0.5956\n",
      "Epoch 18/100\n",
      "391/391 - 13s - loss: 1.0998 - accuracy: 0.6066\n",
      "Epoch 19/100\n",
      "391/391 - 14s - loss: 1.0738 - accuracy: 0.6158\n",
      "Epoch 20/100\n",
      "391/391 - 14s - loss: 1.0427 - accuracy: 0.6294\n",
      "Epoch 21/100\n",
      "391/391 - 14s - loss: 1.0200 - accuracy: 0.6336\n",
      "Epoch 22/100\n",
      "391/391 - 14s - loss: 0.9877 - accuracy: 0.6452\n",
      "Epoch 23/100\n",
      "391/391 - 14s - loss: 0.9725 - accuracy: 0.6529\n",
      "Epoch 24/100\n",
      "391/391 - 14s - loss: 0.9355 - accuracy: 0.6654\n",
      "Epoch 25/100\n",
      "391/391 - 14s - loss: 0.9155 - accuracy: 0.6718\n",
      "Epoch 26/100\n",
      "391/391 - 13s - loss: 0.9020 - accuracy: 0.6768\n",
      "Epoch 27/100\n",
      "391/391 - 14s - loss: 0.8671 - accuracy: 0.6891\n",
      "Epoch 28/100\n",
      "391/391 - 16s - loss: 0.8359 - accuracy: 0.7012\n",
      "Epoch 29/100\n",
      "391/391 - 16s - loss: 0.8201 - accuracy: 0.7045\n",
      "Epoch 30/100\n",
      "391/391 - 16s - loss: 0.8009 - accuracy: 0.7133\n",
      "Epoch 31/100\n",
      "391/391 - 15s - loss: 0.7732 - accuracy: 0.7218\n",
      "Epoch 32/100\n",
      "391/391 - 14s - loss: 0.7501 - accuracy: 0.7327\n",
      "Epoch 33/100\n",
      "391/391 - 14s - loss: 0.7359 - accuracy: 0.7339\n",
      "Epoch 34/100\n",
      "391/391 - 13s - loss: 0.7035 - accuracy: 0.7470\n",
      "Epoch 35/100\n",
      "391/391 - 14s - loss: 0.6868 - accuracy: 0.7539\n",
      "Epoch 36/100\n",
      "391/391 - 14s - loss: 0.6703 - accuracy: 0.7580\n",
      "Epoch 37/100\n",
      "391/391 - 13s - loss: 0.6519 - accuracy: 0.7671\n",
      "Epoch 38/100\n",
      "391/391 - 13s - loss: 0.6330 - accuracy: 0.7719\n",
      "Epoch 39/100\n",
      "391/391 - 13s - loss: 0.6165 - accuracy: 0.7784\n",
      "Epoch 40/100\n",
      "391/391 - 14s - loss: 0.6058 - accuracy: 0.7806\n",
      "Epoch 41/100\n",
      "391/391 - 13s - loss: 0.5768 - accuracy: 0.7928\n",
      "Epoch 42/100\n",
      "391/391 - 12s - loss: 0.5547 - accuracy: 0.8031\n",
      "Epoch 43/100\n",
      "391/391 - 13s - loss: 0.5598 - accuracy: 0.7988\n",
      "Epoch 44/100\n",
      "391/391 - 14s - loss: 0.5434 - accuracy: 0.8060\n",
      "Epoch 45/100\n",
      "391/391 - 13s - loss: 0.5190 - accuracy: 0.8143\n",
      "Epoch 46/100\n",
      "391/391 - 13s - loss: 0.5070 - accuracy: 0.8203\n",
      "Epoch 47/100\n",
      "391/391 - 14s - loss: 0.5020 - accuracy: 0.8209\n",
      "Epoch 48/100\n",
      "391/391 - 14s - loss: 0.4847 - accuracy: 0.8264\n",
      "Epoch 49/100\n",
      "391/391 - 13s - loss: 0.4790 - accuracy: 0.8278\n",
      "Epoch 50/100\n",
      "391/391 - 14s - loss: 0.4686 - accuracy: 0.8325\n",
      "Epoch 51/100\n",
      "391/391 - 14s - loss: 0.4563 - accuracy: 0.8356\n",
      "Epoch 52/100\n",
      "391/391 - 14s - loss: 0.4576 - accuracy: 0.8343\n",
      "Epoch 53/100\n",
      "391/391 - 13s - loss: 0.4241 - accuracy: 0.8501\n",
      "Epoch 54/100\n",
      "391/391 - 14s - loss: 0.4375 - accuracy: 0.8440\n",
      "Epoch 55/100\n",
      "391/391 - 14s - loss: 0.4099 - accuracy: 0.8546\n",
      "Epoch 56/100\n",
      "391/391 - 14s - loss: 0.4085 - accuracy: 0.8537\n",
      "Epoch 57/100\n",
      "391/391 - 14s - loss: 0.3936 - accuracy: 0.8596\n",
      "Epoch 58/100\n",
      "391/391 - 14s - loss: 0.3912 - accuracy: 0.8605\n",
      "Epoch 59/100\n",
      "391/391 - 14s - loss: 0.3709 - accuracy: 0.8671\n",
      "Epoch 60/100\n",
      "391/391 - 14s - loss: 0.3774 - accuracy: 0.8640\n",
      "Epoch 61/100\n",
      "391/391 - 14s - loss: 0.3880 - accuracy: 0.8618\n",
      "Epoch 62/100\n",
      "391/391 - 14s - loss: 0.3505 - accuracy: 0.8734\n",
      "Epoch 63/100\n",
      "391/391 - 14s - loss: 0.3614 - accuracy: 0.8722\n",
      "Epoch 64/100\n",
      "391/391 - 14s - loss: 0.3553 - accuracy: 0.8705\n",
      "Epoch 65/100\n",
      "391/391 - 14s - loss: 0.3576 - accuracy: 0.8714\n",
      "Epoch 66/100\n",
      "391/391 - 15s - loss: 0.3292 - accuracy: 0.8828\n",
      "Epoch 67/100\n",
      "391/391 - 14s - loss: 0.3329 - accuracy: 0.8810\n",
      "Epoch 68/100\n",
      "391/391 - 15s - loss: 0.3404 - accuracy: 0.8793\n",
      "Epoch 69/100\n",
      "391/391 - 14s - loss: 0.3252 - accuracy: 0.8838\n",
      "Epoch 70/100\n",
      "391/391 - 14s - loss: 0.3061 - accuracy: 0.8906\n",
      "Epoch 71/100\n",
      "391/391 - 14s - loss: 0.3029 - accuracy: 0.8922\n",
      "Epoch 72/100\n",
      "391/391 - 13s - loss: 0.3216 - accuracy: 0.8857\n",
      "Epoch 73/100\n",
      "391/391 - 13s - loss: 0.3274 - accuracy: 0.8823\n",
      "Epoch 74/100\n",
      "391/391 - 13s - loss: 0.2787 - accuracy: 0.9013\n",
      "Epoch 75/100\n",
      "391/391 - 13s - loss: 0.3087 - accuracy: 0.8900\n",
      "Epoch 76/100\n",
      "391/391 - 14s - loss: 0.2809 - accuracy: 0.9015\n",
      "Epoch 77/100\n",
      "391/391 - 14s - loss: 0.2887 - accuracy: 0.8971\n",
      "Epoch 78/100\n",
      "391/391 - 14s - loss: 0.3049 - accuracy: 0.8913\n",
      "Epoch 79/100\n",
      "391/391 - 13s - loss: 0.2874 - accuracy: 0.8981\n",
      "Epoch 80/100\n",
      "391/391 - 13s - loss: 0.2687 - accuracy: 0.9049\n",
      "Epoch 81/100\n",
      "391/391 - 14s - loss: 0.2687 - accuracy: 0.9041\n",
      "Epoch 82/100\n",
      "391/391 - 13s - loss: 0.2660 - accuracy: 0.9064\n",
      "Epoch 83/100\n",
      "391/391 - 14s - loss: 0.3011 - accuracy: 0.8956\n",
      "Epoch 84/100\n",
      "391/391 - 14s - loss: 0.2537 - accuracy: 0.9093\n",
      "Epoch 85/100\n",
      "391/391 - 14s - loss: 0.2315 - accuracy: 0.9184\n",
      "Epoch 86/100\n",
      "391/391 - 13s - loss: 0.2640 - accuracy: 0.9058\n",
      "Epoch 87/100\n",
      "391/391 - 13s - loss: 0.2708 - accuracy: 0.9054\n",
      "Epoch 88/100\n",
      "391/391 - 15s - loss: 0.2401 - accuracy: 0.9155\n",
      "Epoch 89/100\n",
      "391/391 - 15s - loss: 0.2504 - accuracy: 0.9115\n",
      "Epoch 90/100\n",
      "391/391 - 12s - loss: 0.2574 - accuracy: 0.9103\n",
      "Epoch 91/100\n",
      "391/391 - 14s - loss: 0.2288 - accuracy: 0.9201\n",
      "Epoch 92/100\n",
      "391/391 - 14s - loss: 0.2250 - accuracy: 0.9200\n",
      "Epoch 93/100\n",
      "391/391 - 14s - loss: 0.2436 - accuracy: 0.9134\n",
      "Epoch 94/100\n",
      "391/391 - 14s - loss: 0.2400 - accuracy: 0.9149\n",
      "Epoch 95/100\n",
      "391/391 - 15s - loss: 0.2414 - accuracy: 0.9149\n",
      "Epoch 96/100\n",
      "391/391 - 13s - loss: 0.2296 - accuracy: 0.9184\n",
      "Epoch 97/100\n",
      "391/391 - 14s - loss: 0.2469 - accuracy: 0.9136\n",
      "Epoch 98/100\n",
      "391/391 - 14s - loss: 0.2260 - accuracy: 0.9202\n",
      "Epoch 99/100\n",
      "391/391 - 14s - loss: 0.2270 - accuracy: 0.9202\n",
      "Epoch 100/100\n",
      "391/391 - 13s - loss: 0.2253 - accuracy: 0.9208\n"
     ]
    }
   ],
   "source": [
    "# model = Sequential()\n",
    "# model.add(Dense(hidden1, input_dim=input_size, activation='relu'))\n",
    "# model.add(Dense(hidden2, activation='relu'))\n",
    "# model.add(Dense(hidden3, activation='relu'))\n",
    "# model.add(Dense(output_size, activation='softmax'))\n",
    "\n",
    "# model.compile(loss='categorical_crossentropy',\n",
    "#               metrics=['accuracy'], optimizer='adam')\n",
    "# model.fit(data, trainLabels, batch_size=128, epochs=100, verbose=2)\n",
    "# model.save(path+\"\\\\trained.h5\")\n",
    "\n",
    "model= md.load_model(path+\"\\\\trained.h5\")"
   ]
  },
  {
   "cell_type": "code",
   "execution_count": 44,
   "metadata": {},
   "outputs": [],
   "source": [
    "def testData(num):\n",
    "    img=cv2.imread(path+\"\\\\test\\\\\"+str(num)+\".png\")\n",
    "    img=np.array(img)\n",
    "    plt.imshow(img)\n",
    "    img=img.flatten()\n",
    "    id=(model.predict_classes(np.array([img])))\n",
    "    print(categoris[id[0]])"
   ]
  },
  {
   "cell_type": "code",
   "execution_count": 52,
   "metadata": {},
   "outputs": [
    {
     "output_type": "stream",
     "name": "stdout",
     "text": [
      "bird\n"
     ]
    },
    {
     "output_type": "display_data",
     "data": {
      "text/plain": "<Figure size 432x288 with 1 Axes>",
      "image/svg+xml": "<?xml version=\"1.0\" encoding=\"utf-8\" standalone=\"no\"?>\r\n<!DOCTYPE svg PUBLIC \"-//W3C//DTD SVG 1.1//EN\"\r\n  \"http://www.w3.org/Graphics/SVG/1.1/DTD/svg11.dtd\">\r\n<!-- Created with matplotlib (https://matplotlib.org/) -->\r\n<svg height=\"248.919844pt\" version=\"1.1\" viewBox=\"0 0 251.565 248.919844\" width=\"251.565pt\" xmlns=\"http://www.w3.org/2000/svg\" xmlns:xlink=\"http://www.w3.org/1999/xlink\">\r\n <metadata>\r\n  <rdf:RDF xmlns:cc=\"http://creativecommons.org/ns#\" xmlns:dc=\"http://purl.org/dc/elements/1.1/\" xmlns:rdf=\"http://www.w3.org/1999/02/22-rdf-syntax-ns#\">\r\n   <cc:Work>\r\n    <dc:type rdf:resource=\"http://purl.org/dc/dcmitype/StillImage\"/>\r\n    <dc:date>2021-04-01T16:37:47.889880</dc:date>\r\n    <dc:format>image/svg+xml</dc:format>\r\n    <dc:creator>\r\n     <cc:Agent>\r\n      <dc:title>Matplotlib v3.3.2, https://matplotlib.org/</dc:title>\r\n     </cc:Agent>\r\n    </dc:creator>\r\n   </cc:Work>\r\n  </rdf:RDF>\r\n </metadata>\r\n <defs>\r\n  <style type=\"text/css\">*{stroke-linecap:butt;stroke-linejoin:round;}</style>\r\n </defs>\r\n <g id=\"figure_1\">\r\n  <g id=\"patch_1\">\r\n   <path d=\"M 0 248.919844 \r\nL 251.565 248.919844 \r\nL 251.565 0 \r\nL 0 0 \r\nz\r\n\" style=\"fill:none;\"/>\r\n  </g>\r\n  <g id=\"axes_1\">\r\n   <g id=\"patch_2\">\r\n    <path d=\"M 26.925 225.041719 \r\nL 244.365 225.041719 \r\nL 244.365 7.601719 \r\nL 26.925 7.601719 \r\nz\r\n\" style=\"fill:#ffffff;\"/>\r\n   </g>\r\n   <g clip-path=\"url(#pa3d084f9f7)\">\r\n    <image height=\"218\" id=\"imagebd1ebe5711\" transform=\"scale(1 -1)translate(0 -218)\" width=\"218\" x=\"26.925\" xlink:href=\"data:image/png;base64,\r\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\" y=\"-7.041719\"/>\r\n   </g>\r\n   <g id=\"matplotlib.axis_1\">\r\n    <g id=\"xtick_1\">\r\n     <g id=\"line2d_1\">\r\n      <defs>\r\n       <path d=\"M 0 0 \r\nL 0 3.5 \r\n\" id=\"maa20e64bd0\" style=\"stroke:#000000;stroke-width:0.8;\"/>\r\n      </defs>\r\n      <g>\r\n       <use style=\"stroke:#000000;stroke-width:0.8;\" x=\"30.3225\" xlink:href=\"#maa20e64bd0\" y=\"225.041719\"/>\r\n      </g>\r\n     </g>\r\n     <g id=\"text_1\">\r\n      <!-- 0 -->\r\n      <g transform=\"translate(27.14125 239.640156)scale(0.1 -0.1)\">\r\n       <defs>\r\n        <path d=\"M 31.78125 66.40625 \r\nQ 24.171875 66.40625 20.328125 58.90625 \r\nQ 16.5 51.421875 16.5 36.375 \r\nQ 16.5 21.390625 20.328125 13.890625 \r\nQ 24.171875 6.390625 31.78125 6.390625 \r\nQ 39.453125 6.390625 43.28125 13.890625 \r\nQ 47.125 21.390625 47.125 36.375 \r\nQ 47.125 51.421875 43.28125 58.90625 \r\nQ 39.453125 66.40625 31.78125 66.40625 \r\nz\r\nM 31.78125 74.21875 \r\nQ 44.046875 74.21875 50.515625 64.515625 \r\nQ 56.984375 54.828125 56.984375 36.375 \r\nQ 56.984375 17.96875 50.515625 8.265625 \r\nQ 44.046875 -1.421875 31.78125 -1.421875 \r\nQ 19.53125 -1.421875 13.0625 8.265625 \r\nQ 6.59375 17.96875 6.59375 36.375 \r\nQ 6.59375 54.828125 13.0625 64.515625 \r\nQ 19.53125 74.21875 31.78125 74.21875 \r\nz\r\n\" id=\"DejaVuSans-48\"/>\r\n       </defs>\r\n       <use xlink:href=\"#DejaVuSans-48\"/>\r\n      </g>\r\n     </g>\r\n    </g>\r\n    <g id=\"xtick_2\">\r\n     <g id=\"line2d_2\">\r\n      <g>\r\n       <use style=\"stroke:#000000;stroke-width:0.8;\" x=\"64.2975\" xlink:href=\"#maa20e64bd0\" y=\"225.041719\"/>\r\n      </g>\r\n     </g>\r\n     <g id=\"text_2\">\r\n      <!-- 5 -->\r\n      <g transform=\"translate(61.11625 239.640156)scale(0.1 -0.1)\">\r\n       <defs>\r\n        <path d=\"M 10.796875 72.90625 \r\nL 49.515625 72.90625 \r\nL 49.515625 64.59375 \r\nL 19.828125 64.59375 \r\nL 19.828125 46.734375 \r\nQ 21.96875 47.46875 24.109375 47.828125 \r\nQ 26.265625 48.1875 28.421875 48.1875 \r\nQ 40.625 48.1875 47.75 41.5 \r\nQ 54.890625 34.8125 54.890625 23.390625 \r\nQ 54.890625 11.625 47.5625 5.09375 \r\nQ 40.234375 -1.421875 26.90625 -1.421875 \r\nQ 22.3125 -1.421875 17.546875 -0.640625 \r\nQ 12.796875 0.140625 7.71875 1.703125 \r\nL 7.71875 11.625 \r\nQ 12.109375 9.234375 16.796875 8.0625 \r\nQ 21.484375 6.890625 26.703125 6.890625 \r\nQ 35.15625 6.890625 40.078125 11.328125 \r\nQ 45.015625 15.765625 45.015625 23.390625 \r\nQ 45.015625 31 40.078125 35.4375 \r\nQ 35.15625 39.890625 26.703125 39.890625 \r\nQ 22.75 39.890625 18.8125 39.015625 \r\nQ 14.890625 38.140625 10.796875 36.28125 \r\nz\r\n\" id=\"DejaVuSans-53\"/>\r\n       </defs>\r\n       <use xlink:href=\"#DejaVuSans-53\"/>\r\n      </g>\r\n     </g>\r\n    </g>\r\n    <g id=\"xtick_3\">\r\n     <g id=\"line2d_3\">\r\n      <g>\r\n       <use style=\"stroke:#000000;stroke-width:0.8;\" x=\"98.2725\" xlink:href=\"#maa20e64bd0\" y=\"225.041719\"/>\r\n      </g>\r\n     </g>\r\n     <g id=\"text_3\">\r\n      <!-- 10 -->\r\n      <g transform=\"translate(91.91 239.640156)scale(0.1 -0.1)\">\r\n       <defs>\r\n        <path d=\"M 12.40625 8.296875 \r\nL 28.515625 8.296875 \r\nL 28.515625 63.921875 \r\nL 10.984375 60.40625 \r\nL 10.984375 69.390625 \r\nL 28.421875 72.90625 \r\nL 38.28125 72.90625 \r\nL 38.28125 8.296875 \r\nL 54.390625 8.296875 \r\nL 54.390625 0 \r\nL 12.40625 0 \r\nz\r\n\" id=\"DejaVuSans-49\"/>\r\n       </defs>\r\n       <use xlink:href=\"#DejaVuSans-49\"/>\r\n       <use x=\"63.623047\" xlink:href=\"#DejaVuSans-48\"/>\r\n      </g>\r\n     </g>\r\n    </g>\r\n    <g id=\"xtick_4\">\r\n     <g id=\"line2d_4\">\r\n      <g>\r\n       <use style=\"stroke:#000000;stroke-width:0.8;\" x=\"132.2475\" xlink:href=\"#maa20e64bd0\" y=\"225.041719\"/>\r\n      </g>\r\n     </g>\r\n     <g id=\"text_4\">\r\n      <!-- 15 -->\r\n      <g transform=\"translate(125.885 239.640156)scale(0.1 -0.1)\">\r\n       <use xlink:href=\"#DejaVuSans-49\"/>\r\n       <use x=\"63.623047\" xlink:href=\"#DejaVuSans-53\"/>\r\n      </g>\r\n     </g>\r\n    </g>\r\n    <g id=\"xtick_5\">\r\n     <g id=\"line2d_5\">\r\n      <g>\r\n       <use style=\"stroke:#000000;stroke-width:0.8;\" x=\"166.2225\" xlink:href=\"#maa20e64bd0\" y=\"225.041719\"/>\r\n      </g>\r\n     </g>\r\n     <g id=\"text_5\">\r\n      <!-- 20 -->\r\n      <g transform=\"translate(159.86 239.640156)scale(0.1 -0.1)\">\r\n       <defs>\r\n        <path d=\"M 19.1875 8.296875 \r\nL 53.609375 8.296875 \r\nL 53.609375 0 \r\nL 7.328125 0 \r\nL 7.328125 8.296875 \r\nQ 12.9375 14.109375 22.625 23.890625 \r\nQ 32.328125 33.6875 34.8125 36.53125 \r\nQ 39.546875 41.84375 41.421875 45.53125 \r\nQ 43.3125 49.21875 43.3125 52.78125 \r\nQ 43.3125 58.59375 39.234375 62.25 \r\nQ 35.15625 65.921875 28.609375 65.921875 \r\nQ 23.96875 65.921875 18.8125 64.3125 \r\nQ 13.671875 62.703125 7.8125 59.421875 \r\nL 7.8125 69.390625 \r\nQ 13.765625 71.78125 18.9375 73 \r\nQ 24.125 74.21875 28.421875 74.21875 \r\nQ 39.75 74.21875 46.484375 68.546875 \r\nQ 53.21875 62.890625 53.21875 53.421875 \r\nQ 53.21875 48.921875 51.53125 44.890625 \r\nQ 49.859375 40.875 45.40625 35.40625 \r\nQ 44.1875 33.984375 37.640625 27.21875 \r\nQ 31.109375 20.453125 19.1875 8.296875 \r\nz\r\n\" id=\"DejaVuSans-50\"/>\r\n       </defs>\r\n       <use xlink:href=\"#DejaVuSans-50\"/>\r\n       <use x=\"63.623047\" xlink:href=\"#DejaVuSans-48\"/>\r\n      </g>\r\n     </g>\r\n    </g>\r\n    <g id=\"xtick_6\">\r\n     <g id=\"line2d_6\">\r\n      <g>\r\n       <use style=\"stroke:#000000;stroke-width:0.8;\" x=\"200.1975\" xlink:href=\"#maa20e64bd0\" y=\"225.041719\"/>\r\n      </g>\r\n     </g>\r\n     <g id=\"text_6\">\r\n      <!-- 25 -->\r\n      <g transform=\"translate(193.835 239.640156)scale(0.1 -0.1)\">\r\n       <use xlink:href=\"#DejaVuSans-50\"/>\r\n       <use x=\"63.623047\" xlink:href=\"#DejaVuSans-53\"/>\r\n      </g>\r\n     </g>\r\n    </g>\r\n    <g id=\"xtick_7\">\r\n     <g id=\"line2d_7\">\r\n      <g>\r\n       <use style=\"stroke:#000000;stroke-width:0.8;\" x=\"234.1725\" xlink:href=\"#maa20e64bd0\" y=\"225.041719\"/>\r\n      </g>\r\n     </g>\r\n     <g id=\"text_7\">\r\n      <!-- 30 -->\r\n      <g transform=\"translate(227.81 239.640156)scale(0.1 -0.1)\">\r\n       <defs>\r\n        <path d=\"M 40.578125 39.3125 \r\nQ 47.65625 37.796875 51.625 33 \r\nQ 55.609375 28.21875 55.609375 21.1875 \r\nQ 55.609375 10.40625 48.1875 4.484375 \r\nQ 40.765625 -1.421875 27.09375 -1.421875 \r\nQ 22.515625 -1.421875 17.65625 -0.515625 \r\nQ 12.796875 0.390625 7.625 2.203125 \r\nL 7.625 11.71875 \r\nQ 11.71875 9.328125 16.59375 8.109375 \r\nQ 21.484375 6.890625 26.8125 6.890625 \r\nQ 36.078125 6.890625 40.9375 10.546875 \r\nQ 45.796875 14.203125 45.796875 21.1875 \r\nQ 45.796875 27.640625 41.28125 31.265625 \r\nQ 36.765625 34.90625 28.71875 34.90625 \r\nL 20.21875 34.90625 \r\nL 20.21875 43.015625 \r\nL 29.109375 43.015625 \r\nQ 36.375 43.015625 40.234375 45.921875 \r\nQ 44.09375 48.828125 44.09375 54.296875 \r\nQ 44.09375 59.90625 40.109375 62.90625 \r\nQ 36.140625 65.921875 28.71875 65.921875 \r\nQ 24.65625 65.921875 20.015625 65.03125 \r\nQ 15.375 64.15625 9.8125 62.3125 \r\nL 9.8125 71.09375 \r\nQ 15.4375 72.65625 20.34375 73.4375 \r\nQ 25.25 74.21875 29.59375 74.21875 \r\nQ 40.828125 74.21875 47.359375 69.109375 \r\nQ 53.90625 64.015625 53.90625 55.328125 \r\nQ 53.90625 49.265625 50.4375 45.09375 \r\nQ 46.96875 40.921875 40.578125 39.3125 \r\nz\r\n\" id=\"DejaVuSans-51\"/>\r\n       </defs>\r\n       <use xlink:href=\"#DejaVuSans-51\"/>\r\n       <use x=\"63.623047\" xlink:href=\"#DejaVuSans-48\"/>\r\n      </g>\r\n     </g>\r\n    </g>\r\n   </g>\r\n   <g id=\"matplotlib.axis_2\">\r\n    <g id=\"ytick_1\">\r\n     <g id=\"line2d_8\">\r\n      <defs>\r\n       <path d=\"M 0 0 \r\nL -3.5 0 \r\n\" id=\"mb5856190d6\" style=\"stroke:#000000;stroke-width:0.8;\"/>\r\n      </defs>\r\n      <g>\r\n       <use style=\"stroke:#000000;stroke-width:0.8;\" x=\"26.925\" xlink:href=\"#mb5856190d6\" y=\"10.999219\"/>\r\n      </g>\r\n     </g>\r\n     <g id=\"text_8\">\r\n      <!-- 0 -->\r\n      <g transform=\"translate(13.5625 14.798437)scale(0.1 -0.1)\">\r\n       <use xlink:href=\"#DejaVuSans-48\"/>\r\n      </g>\r\n     </g>\r\n    </g>\r\n    <g id=\"ytick_2\">\r\n     <g id=\"line2d_9\">\r\n      <g>\r\n       <use style=\"stroke:#000000;stroke-width:0.8;\" x=\"26.925\" xlink:href=\"#mb5856190d6\" y=\"44.974219\"/>\r\n      </g>\r\n     </g>\r\n     <g id=\"text_9\">\r\n      <!-- 5 -->\r\n      <g transform=\"translate(13.5625 48.773437)scale(0.1 -0.1)\">\r\n       <use xlink:href=\"#DejaVuSans-53\"/>\r\n      </g>\r\n     </g>\r\n    </g>\r\n    <g id=\"ytick_3\">\r\n     <g id=\"line2d_10\">\r\n      <g>\r\n       <use style=\"stroke:#000000;stroke-width:0.8;\" x=\"26.925\" xlink:href=\"#mb5856190d6\" y=\"78.949219\"/>\r\n      </g>\r\n     </g>\r\n     <g id=\"text_10\">\r\n      <!-- 10 -->\r\n      <g transform=\"translate(7.2 82.748437)scale(0.1 -0.1)\">\r\n       <use xlink:href=\"#DejaVuSans-49\"/>\r\n       <use x=\"63.623047\" xlink:href=\"#DejaVuSans-48\"/>\r\n      </g>\r\n     </g>\r\n    </g>\r\n    <g id=\"ytick_4\">\r\n     <g id=\"line2d_11\">\r\n      <g>\r\n       <use style=\"stroke:#000000;stroke-width:0.8;\" x=\"26.925\" xlink:href=\"#mb5856190d6\" y=\"112.924219\"/>\r\n      </g>\r\n     </g>\r\n     <g id=\"text_11\">\r\n      <!-- 15 -->\r\n      <g transform=\"translate(7.2 116.723437)scale(0.1 -0.1)\">\r\n       <use xlink:href=\"#DejaVuSans-49\"/>\r\n       <use x=\"63.623047\" xlink:href=\"#DejaVuSans-53\"/>\r\n      </g>\r\n     </g>\r\n    </g>\r\n    <g id=\"ytick_5\">\r\n     <g id=\"line2d_12\">\r\n      <g>\r\n       <use style=\"stroke:#000000;stroke-width:0.8;\" x=\"26.925\" xlink:href=\"#mb5856190d6\" y=\"146.899219\"/>\r\n      </g>\r\n     </g>\r\n     <g id=\"text_12\">\r\n      <!-- 20 -->\r\n      <g transform=\"translate(7.2 150.698437)scale(0.1 -0.1)\">\r\n       <use xlink:href=\"#DejaVuSans-50\"/>\r\n       <use x=\"63.623047\" xlink:href=\"#DejaVuSans-48\"/>\r\n      </g>\r\n     </g>\r\n    </g>\r\n    <g id=\"ytick_6\">\r\n     <g id=\"line2d_13\">\r\n      <g>\r\n       <use style=\"stroke:#000000;stroke-width:0.8;\" x=\"26.925\" xlink:href=\"#mb5856190d6\" y=\"180.874219\"/>\r\n      </g>\r\n     </g>\r\n     <g id=\"text_13\">\r\n      <!-- 25 -->\r\n      <g transform=\"translate(7.2 184.673437)scale(0.1 -0.1)\">\r\n       <use xlink:href=\"#DejaVuSans-50\"/>\r\n       <use x=\"63.623047\" xlink:href=\"#DejaVuSans-53\"/>\r\n      </g>\r\n     </g>\r\n    </g>\r\n    <g id=\"ytick_7\">\r\n     <g id=\"line2d_14\">\r\n      <g>\r\n       <use style=\"stroke:#000000;stroke-width:0.8;\" x=\"26.925\" xlink:href=\"#mb5856190d6\" y=\"214.849219\"/>\r\n      </g>\r\n     </g>\r\n     <g id=\"text_14\">\r\n      <!-- 30 -->\r\n      <g transform=\"translate(7.2 218.648437)scale(0.1 -0.1)\">\r\n       <use xlink:href=\"#DejaVuSans-51\"/>\r\n       <use x=\"63.623047\" xlink:href=\"#DejaVuSans-48\"/>\r\n      </g>\r\n     </g>\r\n    </g>\r\n   </g>\r\n   <g id=\"patch_3\">\r\n    <path d=\"M 26.925 225.041719 \r\nL 26.925 7.601719 \r\n\" style=\"fill:none;stroke:#000000;stroke-linecap:square;stroke-linejoin:miter;stroke-width:0.8;\"/>\r\n   </g>\r\n   <g id=\"patch_4\">\r\n    <path d=\"M 244.365 225.041719 \r\nL 244.365 7.601719 \r\n\" style=\"fill:none;stroke:#000000;stroke-linecap:square;stroke-linejoin:miter;stroke-width:0.8;\"/>\r\n   </g>\r\n   <g id=\"patch_5\">\r\n    <path d=\"M 26.925 225.041719 \r\nL 244.365 225.041719 \r\n\" style=\"fill:none;stroke:#000000;stroke-linecap:square;stroke-linejoin:miter;stroke-width:0.8;\"/>\r\n   </g>\r\n   <g id=\"patch_6\">\r\n    <path d=\"M 26.925 7.601719 \r\nL 244.365 7.601719 \r\n\" style=\"fill:none;stroke:#000000;stroke-linecap:square;stroke-linejoin:miter;stroke-width:0.8;\"/>\r\n   </g>\r\n  </g>\r\n </g>\r\n <defs>\r\n  <clipPath id=\"pa3d084f9f7\">\r\n   <rect height=\"217.44\" width=\"217.44\" x=\"26.925\" y=\"7.601719\"/>\r\n  </clipPath>\r\n </defs>\r\n</svg>\r\n",
      "image/png": "[encoded data removed]"
     },
     "metadata": {
      "needs_background": "light"
     }
    }
   ],
   "source": [
    "testData(278548)"
   ]
  },
  {
   "cell_type": "code",
   "execution_count": null,
   "metadata": {},
   "outputs": [],
   "source": []
  }
 ]
}