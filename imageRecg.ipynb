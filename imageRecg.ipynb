{
 "metadata": {
  "language_info": {
   "codemirror_mode": {
    "name": "ipython",
    "version": 3
   },
   "file_extension": ".py",
   "mimetype": "text/x-python",
   "name": "python",
   "nbconvert_exporter": "python",
   "pygments_lexer": "ipython3",
   "version": "3.6.13"
  },
  "orig_nbformat": 2,
  "kernelspec": {
   "name": "python3613jvsc74a57bd0c94e96bb83342a8b97e318fe3610a28face5210a30124b5ebd62cb5df9d4f7d9",
   "display_name": "Python 3.6.13 64-bit ('tf-amd': conda)"
  }
 },
 "nbformat": 4,
 "nbformat_minor": 2,
 "cells": [
  {
   "cell_type": "code",
   "execution_count": 1,
   "metadata": {},
   "outputs": [],
   "source": [
    "import numpy as np\n",
    "import matplotlib.pyplot as plt\n",
    "import cv2\n",
    "import tensorflow as tf\n",
    "from tensorflow.keras import models,layers\n",
    "import pandas as pd\n",
    "#from sklearn.metrics import confusion_matrix, classification_report"
   ]
  },
  {
   "cell_type": "code",
   "execution_count": 2,
   "metadata": {},
   "outputs": [
    {
     "output_type": "execute_result",
     "data": {
      "text/plain": [
       "True"
      ]
     },
     "metadata": {},
     "execution_count": 2
    }
   ],
   "source": [
    "tf.test.is_gpu_available()"
   ]
  },
  {
   "cell_type": "code",
   "execution_count": 3,
   "metadata": {},
   "outputs": [],
   "source": [
    "path=r\"G:\\dataset\\cifar-10\""
   ]
  },
  {
   "cell_type": "code",
   "execution_count": 4,
   "metadata": {},
   "outputs": [],
   "source": [
    "lable=pd.read_csv(path+\"\\\\\"+\"trainLabels.csv\")\n",
    "keys=lable.keys()"
   ]
  },
  {
   "cell_type": "code",
   "execution_count": 5,
   "metadata": {},
   "outputs": [],
   "source": [
    "categoris=['cat',\n",
    " 'horse',\n",
    " 'automobile',\n",
    " 'ship',\n",
    " 'deer',\n",
    " 'bird',\n",
    " 'frog',\n",
    " 'truck',\n",
    " 'airplane',\n",
    " 'dog']"
   ]
  },
  {
   "cell_type": "code",
   "execution_count": 6,
   "metadata": {},
   "outputs": [],
   "source": [
    "lableId=[]\n",
    "for i in range(len(lable)):\n",
    "    for j in range(10):\n",
    "        if lable[keys[1]][i]==categoris[j]:\n",
    "            lableId.append(j)"
   ]
  },
  {
   "cell_type": "code",
   "execution_count": 7,
   "metadata": {},
   "outputs": [
    {
     "output_type": "execute_result",
     "data": {
      "text/plain": [
       "(50000, 32, 32, 3)"
      ]
     },
     "metadata": {},
     "execution_count": 7
    }
   ],
   "source": [
    "data=[]\n",
    "for i in lable['id']:\n",
    "    temp=cv2.imread(path+\"\\\\train\\\\\"+str(i)+\".png\")\n",
    "    data.append(temp)\n",
    "data=np.array(data)\n",
    "data.shape"
   ]
  },
  {
   "cell_type": "code",
   "execution_count": 8,
   "metadata": {},
   "outputs": [
    {
     "output_type": "display_data",
     "data": {
      "text/plain": "<Figure size 432x288 with 1 Axes>",
      "image/svg+xml": "<?xml version=\"1.0\" encoding=\"utf-8\" standalone=\"no\"?>\r\n<!DOCTYPE svg PUBLIC \"-//W3C//DTD SVG 1.1//EN\"\r\n  \"http://www.w3.org/Graphics/SVG/1.1/DTD/svg11.dtd\">\r\n<!-- Created with matplotlib (https://matplotlib.org/) -->\r\n<svg height=\"262.597969pt\" version=\"1.1\" viewBox=\"0 0 251.565 262.597969\" width=\"251.565pt\" xmlns=\"http://www.w3.org/2000/svg\" xmlns:xlink=\"http://www.w3.org/1999/xlink\">\r\n <metadata>\r\n  <rdf:RDF xmlns:cc=\"http://creativecommons.org/ns#\" xmlns:dc=\"http://purl.org/dc/elements/1.1/\" xmlns:rdf=\"http://www.w3.org/1999/02/22-rdf-syntax-ns#\">\r\n   <cc:Work>\r\n    <dc:type rdf:resource=\"http://purl.org/dc/dcmitype/StillImage\"/>\r\n    <dc:date>2021-04-14T16:46:15.528990</dc:date>\r\n    <dc:format>image/svg+xml</dc:format>\r\n    <dc:creator>\r\n     <cc:Agent>\r\n      <dc:title>Matplotlib v3.3.4, https://matplotlib.org/</dc:title>\r\n     </cc:Agent>\r\n    </dc:creator>\r\n   </cc:Work>\r\n  </rdf:RDF>\r\n </metadata>\r\n <defs>\r\n  <style type=\"text/css\">*{stroke-linecap:butt;stroke-linejoin:round;}</style>\r\n </defs>\r\n <g id=\"figure_1\">\r\n  <g id=\"patch_1\">\r\n   <path d=\"M 0 262.597969 \r\nL 251.565 262.597969 \r\nL 251.565 0 \r\nL 0 0 \r\nz\r\n\" style=\"fill:none;\"/>\r\n  </g>\r\n  <g id=\"axes_1\">\r\n   <g id=\"patch_2\">\r\n    <path d=\"M 26.925 225.041719 \r\nL 244.365 225.041719 \r\nL 244.365 7.601719 \r\nL 26.925 7.601719 \r\nz\r\n\" style=\"fill:#ffffff;\"/>\r\n   </g>\r\n   <g clip-path=\"url(#pece1be7b2b)\">\r\n    <image height=\"218\" id=\"imagead26e1cdaf\" transform=\"scale(1 -1)translate(0 -218)\" width=\"218\" x=\"26.925\" xlink:href=\"data:image/png;base64,\r\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\" y=\"-7.041719\"/>\r\n   </g>\r\n   <g id=\"matplotlib.axis_1\">\r\n    <g id=\"xtick_1\">\r\n     <g id=\"line2d_1\">\r\n      <defs>\r\n       <path d=\"M 0 0 \r\nL 0 3.5 \r\n\" id=\"m69cd9f872d\" style=\"stroke:#000000;stroke-width:0.8;\"/>\r\n      </defs>\r\n      <g>\r\n       <use style=\"stroke:#000000;stroke-width:0.8;\" x=\"30.3225\" xlink:href=\"#m69cd9f872d\" y=\"225.041719\"/>\r\n      </g>\r\n     </g>\r\n     <g id=\"text_1\">\r\n      <!-- 0 -->\r\n      <g transform=\"translate(27.14125 239.640156)scale(0.1 -0.1)\">\r\n       <defs>\r\n        <path d=\"M 31.78125 66.40625 \r\nQ 24.171875 66.40625 20.328125 58.90625 \r\nQ 16.5 51.421875 16.5 36.375 \r\nQ 16.5 21.390625 20.328125 13.890625 \r\nQ 24.171875 6.390625 31.78125 6.390625 \r\nQ 39.453125 6.390625 43.28125 13.890625 \r\nQ 47.125 21.390625 47.125 36.375 \r\nQ 47.125 51.421875 43.28125 58.90625 \r\nQ 39.453125 66.40625 31.78125 66.40625 \r\nz\r\nM 31.78125 74.21875 \r\nQ 44.046875 74.21875 50.515625 64.515625 \r\nQ 56.984375 54.828125 56.984375 36.375 \r\nQ 56.984375 17.96875 50.515625 8.265625 \r\nQ 44.046875 -1.421875 31.78125 -1.421875 \r\nQ 19.53125 -1.421875 13.0625 8.265625 \r\nQ 6.59375 17.96875 6.59375 36.375 \r\nQ 6.59375 54.828125 13.0625 64.515625 \r\nQ 19.53125 74.21875 31.78125 74.21875 \r\nz\r\n\" id=\"DejaVuSans-48\"/>\r\n       </defs>\r\n       <use xlink:href=\"#DejaVuSans-48\"/>\r\n      </g>\r\n     </g>\r\n    </g>\r\n    <g id=\"xtick_2\">\r\n     <g id=\"line2d_2\">\r\n      <g>\r\n       <use style=\"stroke:#000000;stroke-width:0.8;\" x=\"64.2975\" xlink:href=\"#m69cd9f872d\" y=\"225.041719\"/>\r\n      </g>\r\n     </g>\r\n     <g id=\"text_2\">\r\n      <!-- 5 -->\r\n      <g transform=\"translate(61.11625 239.640156)scale(0.1 -0.1)\">\r\n       <defs>\r\n        <path d=\"M 10.796875 72.90625 \r\nL 49.515625 72.90625 \r\nL 49.515625 64.59375 \r\nL 19.828125 64.59375 \r\nL 19.828125 46.734375 \r\nQ 21.96875 47.46875 24.109375 47.828125 \r\nQ 26.265625 48.1875 28.421875 48.1875 \r\nQ 40.625 48.1875 47.75 41.5 \r\nQ 54.890625 34.8125 54.890625 23.390625 \r\nQ 54.890625 11.625 47.5625 5.09375 \r\nQ 40.234375 -1.421875 26.90625 -1.421875 \r\nQ 22.3125 -1.421875 17.546875 -0.640625 \r\nQ 12.796875 0.140625 7.71875 1.703125 \r\nL 7.71875 11.625 \r\nQ 12.109375 9.234375 16.796875 8.0625 \r\nQ 21.484375 6.890625 26.703125 6.890625 \r\nQ 35.15625 6.890625 40.078125 11.328125 \r\nQ 45.015625 15.765625 45.015625 23.390625 \r\nQ 45.015625 31 40.078125 35.4375 \r\nQ 35.15625 39.890625 26.703125 39.890625 \r\nQ 22.75 39.890625 18.8125 39.015625 \r\nQ 14.890625 38.140625 10.796875 36.28125 \r\nz\r\n\" id=\"DejaVuSans-53\"/>\r\n       </defs>\r\n       <use xlink:href=\"#DejaVuSans-53\"/>\r\n      </g>\r\n     </g>\r\n    </g>\r\n    <g id=\"xtick_3\">\r\n     <g id=\"line2d_3\">\r\n      <g>\r\n       <use style=\"stroke:#000000;stroke-width:0.8;\" x=\"98.2725\" xlink:href=\"#m69cd9f872d\" y=\"225.041719\"/>\r\n      </g>\r\n     </g>\r\n     <g id=\"text_3\">\r\n      <!-- 10 -->\r\n      <g transform=\"translate(91.91 239.640156)scale(0.1 -0.1)\">\r\n       <defs>\r\n        <path d=\"M 12.40625 8.296875 \r\nL 28.515625 8.296875 \r\nL 28.515625 63.921875 \r\nL 10.984375 60.40625 \r\nL 10.984375 69.390625 \r\nL 28.421875 72.90625 \r\nL 38.28125 72.90625 \r\nL 38.28125 8.296875 \r\nL 54.390625 8.296875 \r\nL 54.390625 0 \r\nL 12.40625 0 \r\nz\r\n\" id=\"DejaVuSans-49\"/>\r\n       </defs>\r\n       <use xlink:href=\"#DejaVuSans-49\"/>\r\n       <use x=\"63.623047\" xlink:href=\"#DejaVuSans-48\"/>\r\n      </g>\r\n     </g>\r\n    </g>\r\n    <g id=\"xtick_4\">\r\n     <g id=\"line2d_4\">\r\n      <g>\r\n       <use style=\"stroke:#000000;stroke-width:0.8;\" x=\"132.2475\" xlink:href=\"#m69cd9f872d\" y=\"225.041719\"/>\r\n      </g>\r\n     </g>\r\n     <g id=\"text_4\">\r\n      <!-- 15 -->\r\n      <g transform=\"translate(125.885 239.640156)scale(0.1 -0.1)\">\r\n       <use xlink:href=\"#DejaVuSans-49\"/>\r\n       <use x=\"63.623047\" xlink:href=\"#DejaVuSans-53\"/>\r\n      </g>\r\n     </g>\r\n    </g>\r\n    <g id=\"xtick_5\">\r\n     <g id=\"line2d_5\">\r\n      <g>\r\n       <use style=\"stroke:#000000;stroke-width:0.8;\" x=\"166.2225\" xlink:href=\"#m69cd9f872d\" y=\"225.041719\"/>\r\n      </g>\r\n     </g>\r\n     <g id=\"text_5\">\r\n      <!-- 20 -->\r\n      <g transform=\"translate(159.86 239.640156)scale(0.1 -0.1)\">\r\n       <defs>\r\n        <path d=\"M 19.1875 8.296875 \r\nL 53.609375 8.296875 \r\nL 53.609375 0 \r\nL 7.328125 0 \r\nL 7.328125 8.296875 \r\nQ 12.9375 14.109375 22.625 23.890625 \r\nQ 32.328125 33.6875 34.8125 36.53125 \r\nQ 39.546875 41.84375 41.421875 45.53125 \r\nQ 43.3125 49.21875 43.3125 52.78125 \r\nQ 43.3125 58.59375 39.234375 62.25 \r\nQ 35.15625 65.921875 28.609375 65.921875 \r\nQ 23.96875 65.921875 18.8125 64.3125 \r\nQ 13.671875 62.703125 7.8125 59.421875 \r\nL 7.8125 69.390625 \r\nQ 13.765625 71.78125 18.9375 73 \r\nQ 24.125 74.21875 28.421875 74.21875 \r\nQ 39.75 74.21875 46.484375 68.546875 \r\nQ 53.21875 62.890625 53.21875 53.421875 \r\nQ 53.21875 48.921875 51.53125 44.890625 \r\nQ 49.859375 40.875 45.40625 35.40625 \r\nQ 44.1875 33.984375 37.640625 27.21875 \r\nQ 31.109375 20.453125 19.1875 8.296875 \r\nz\r\n\" id=\"DejaVuSans-50\"/>\r\n       </defs>\r\n       <use xlink:href=\"#DejaVuSans-50\"/>\r\n       <use x=\"63.623047\" xlink:href=\"#DejaVuSans-48\"/>\r\n      </g>\r\n     </g>\r\n    </g>\r\n    <g id=\"xtick_6\">\r\n     <g id=\"line2d_6\">\r\n      <g>\r\n       <use style=\"stroke:#000000;stroke-width:0.8;\" x=\"200.1975\" xlink:href=\"#m69cd9f872d\" y=\"225.041719\"/>\r\n      </g>\r\n     </g>\r\n     <g id=\"text_6\">\r\n      <!-- 25 -->\r\n      <g transform=\"translate(193.835 239.640156)scale(0.1 -0.1)\">\r\n       <use xlink:href=\"#DejaVuSans-50\"/>\r\n       <use x=\"63.623047\" xlink:href=\"#DejaVuSans-53\"/>\r\n      </g>\r\n     </g>\r\n    </g>\r\n    <g id=\"xtick_7\">\r\n     <g id=\"line2d_7\">\r\n      <g>\r\n       <use style=\"stroke:#000000;stroke-width:0.8;\" x=\"234.1725\" xlink:href=\"#m69cd9f872d\" y=\"225.041719\"/>\r\n      </g>\r\n     </g>\r\n     <g id=\"text_7\">\r\n      <!-- 30 -->\r\n      <g transform=\"translate(227.81 239.640156)scale(0.1 -0.1)\">\r\n       <defs>\r\n        <path d=\"M 40.578125 39.3125 \r\nQ 47.65625 37.796875 51.625 33 \r\nQ 55.609375 28.21875 55.609375 21.1875 \r\nQ 55.609375 10.40625 48.1875 4.484375 \r\nQ 40.765625 -1.421875 27.09375 -1.421875 \r\nQ 22.515625 -1.421875 17.65625 -0.515625 \r\nQ 12.796875 0.390625 7.625 2.203125 \r\nL 7.625 11.71875 \r\nQ 11.71875 9.328125 16.59375 8.109375 \r\nQ 21.484375 6.890625 26.8125 6.890625 \r\nQ 36.078125 6.890625 40.9375 10.546875 \r\nQ 45.796875 14.203125 45.796875 21.1875 \r\nQ 45.796875 27.640625 41.28125 31.265625 \r\nQ 36.765625 34.90625 28.71875 34.90625 \r\nL 20.21875 34.90625 \r\nL 20.21875 43.015625 \r\nL 29.109375 43.015625 \r\nQ 36.375 43.015625 40.234375 45.921875 \r\nQ 44.09375 48.828125 44.09375 54.296875 \r\nQ 44.09375 59.90625 40.109375 62.90625 \r\nQ 36.140625 65.921875 28.71875 65.921875 \r\nQ 24.65625 65.921875 20.015625 65.03125 \r\nQ 15.375 64.15625 9.8125 62.3125 \r\nL 9.8125 71.09375 \r\nQ 15.4375 72.65625 20.34375 73.4375 \r\nQ 25.25 74.21875 29.59375 74.21875 \r\nQ 40.828125 74.21875 47.359375 69.109375 \r\nQ 53.90625 64.015625 53.90625 55.328125 \r\nQ 53.90625 49.265625 50.4375 45.09375 \r\nQ 46.96875 40.921875 40.578125 39.3125 \r\nz\r\n\" id=\"DejaVuSans-51\"/>\r\n       </defs>\r\n       <use xlink:href=\"#DejaVuSans-51\"/>\r\n       <use x=\"63.623047\" xlink:href=\"#DejaVuSans-48\"/>\r\n      </g>\r\n     </g>\r\n    </g>\r\n    <g id=\"text_8\">\r\n     <!-- automobile -->\r\n     <g transform=\"translate(107.434062 253.318281)scale(0.1 -0.1)\">\r\n      <defs>\r\n       <path d=\"M 34.28125 27.484375 \r\nQ 23.390625 27.484375 19.1875 25 \r\nQ 14.984375 22.515625 14.984375 16.5 \r\nQ 14.984375 11.71875 18.140625 8.90625 \r\nQ 21.296875 6.109375 26.703125 6.109375 \r\nQ 34.1875 6.109375 38.703125 11.40625 \r\nQ 43.21875 16.703125 43.21875 25.484375 \r\nL 43.21875 27.484375 \r\nz\r\nM 52.203125 31.203125 \r\nL 52.203125 0 \r\nL 43.21875 0 \r\nL 43.21875 8.296875 \r\nQ 40.140625 3.328125 35.546875 0.953125 \r\nQ 30.953125 -1.421875 24.3125 -1.421875 \r\nQ 15.921875 -1.421875 10.953125 3.296875 \r\nQ 6 8.015625 6 15.921875 \r\nQ 6 25.140625 12.171875 29.828125 \r\nQ 18.359375 34.515625 30.609375 34.515625 \r\nL 43.21875 34.515625 \r\nL 43.21875 35.40625 \r\nQ 43.21875 41.609375 39.140625 45 \r\nQ 35.0625 48.390625 27.6875 48.390625 \r\nQ 23 48.390625 18.546875 47.265625 \r\nQ 14.109375 46.140625 10.015625 43.890625 \r\nL 10.015625 52.203125 \r\nQ 14.9375 54.109375 19.578125 55.046875 \r\nQ 24.21875 56 28.609375 56 \r\nQ 40.484375 56 46.34375 49.84375 \r\nQ 52.203125 43.703125 52.203125 31.203125 \r\nz\r\n\" id=\"DejaVuSans-97\"/>\r\n       <path d=\"M 8.5 21.578125 \r\nL 8.5 54.6875 \r\nL 17.484375 54.6875 \r\nL 17.484375 21.921875 \r\nQ 17.484375 14.15625 20.5 10.265625 \r\nQ 23.53125 6.390625 29.59375 6.390625 \r\nQ 36.859375 6.390625 41.078125 11.03125 \r\nQ 45.3125 15.671875 45.3125 23.6875 \r\nL 45.3125 54.6875 \r\nL 54.296875 54.6875 \r\nL 54.296875 0 \r\nL 45.3125 0 \r\nL 45.3125 8.40625 \r\nQ 42.046875 3.421875 37.71875 1 \r\nQ 33.40625 -1.421875 27.6875 -1.421875 \r\nQ 18.265625 -1.421875 13.375 4.4375 \r\nQ 8.5 10.296875 8.5 21.578125 \r\nz\r\nM 31.109375 56 \r\nz\r\n\" id=\"DejaVuSans-117\"/>\r\n       <path d=\"M 18.3125 70.21875 \r\nL 18.3125 54.6875 \r\nL 36.8125 54.6875 \r\nL 36.8125 47.703125 \r\nL 18.3125 47.703125 \r\nL 18.3125 18.015625 \r\nQ 18.3125 11.328125 20.140625 9.421875 \r\nQ 21.96875 7.515625 27.59375 7.515625 \r\nL 36.8125 7.515625 \r\nL 36.8125 0 \r\nL 27.59375 0 \r\nQ 17.1875 0 13.234375 3.875 \r\nQ 9.28125 7.765625 9.28125 18.015625 \r\nL 9.28125 47.703125 \r\nL 2.6875 47.703125 \r\nL 2.6875 54.6875 \r\nL 9.28125 54.6875 \r\nL 9.28125 70.21875 \r\nz\r\n\" id=\"DejaVuSans-116\"/>\r\n       <path d=\"M 30.609375 48.390625 \r\nQ 23.390625 48.390625 19.1875 42.75 \r\nQ 14.984375 37.109375 14.984375 27.296875 \r\nQ 14.984375 17.484375 19.15625 11.84375 \r\nQ 23.34375 6.203125 30.609375 6.203125 \r\nQ 37.796875 6.203125 41.984375 11.859375 \r\nQ 46.1875 17.53125 46.1875 27.296875 \r\nQ 46.1875 37.015625 41.984375 42.703125 \r\nQ 37.796875 48.390625 30.609375 48.390625 \r\nz\r\nM 30.609375 56 \r\nQ 42.328125 56 49.015625 48.375 \r\nQ 55.71875 40.765625 55.71875 27.296875 \r\nQ 55.71875 13.875 49.015625 6.21875 \r\nQ 42.328125 -1.421875 30.609375 -1.421875 \r\nQ 18.84375 -1.421875 12.171875 6.21875 \r\nQ 5.515625 13.875 5.515625 27.296875 \r\nQ 5.515625 40.765625 12.171875 48.375 \r\nQ 18.84375 56 30.609375 56 \r\nz\r\n\" id=\"DejaVuSans-111\"/>\r\n       <path d=\"M 52 44.1875 \r\nQ 55.375 50.25 60.0625 53.125 \r\nQ 64.75 56 71.09375 56 \r\nQ 79.640625 56 84.28125 50.015625 \r\nQ 88.921875 44.046875 88.921875 33.015625 \r\nL 88.921875 0 \r\nL 79.890625 0 \r\nL 79.890625 32.71875 \r\nQ 79.890625 40.578125 77.09375 44.375 \r\nQ 74.3125 48.1875 68.609375 48.1875 \r\nQ 61.625 48.1875 57.5625 43.546875 \r\nQ 53.515625 38.921875 53.515625 30.90625 \r\nL 53.515625 0 \r\nL 44.484375 0 \r\nL 44.484375 32.71875 \r\nQ 44.484375 40.625 41.703125 44.40625 \r\nQ 38.921875 48.1875 33.109375 48.1875 \r\nQ 26.21875 48.1875 22.15625 43.53125 \r\nQ 18.109375 38.875 18.109375 30.90625 \r\nL 18.109375 0 \r\nL 9.078125 0 \r\nL 9.078125 54.6875 \r\nL 18.109375 54.6875 \r\nL 18.109375 46.1875 \r\nQ 21.1875 51.21875 25.484375 53.609375 \r\nQ 29.78125 56 35.6875 56 \r\nQ 41.65625 56 45.828125 52.96875 \r\nQ 50 49.953125 52 44.1875 \r\nz\r\n\" id=\"DejaVuSans-109\"/>\r\n       <path d=\"M 48.6875 27.296875 \r\nQ 48.6875 37.203125 44.609375 42.84375 \r\nQ 40.53125 48.484375 33.40625 48.484375 \r\nQ 26.265625 48.484375 22.1875 42.84375 \r\nQ 18.109375 37.203125 18.109375 27.296875 \r\nQ 18.109375 17.390625 22.1875 11.75 \r\nQ 26.265625 6.109375 33.40625 6.109375 \r\nQ 40.53125 6.109375 44.609375 11.75 \r\nQ 48.6875 17.390625 48.6875 27.296875 \r\nz\r\nM 18.109375 46.390625 \r\nQ 20.953125 51.265625 25.265625 53.625 \r\nQ 29.59375 56 35.59375 56 \r\nQ 45.5625 56 51.78125 48.09375 \r\nQ 58.015625 40.1875 58.015625 27.296875 \r\nQ 58.015625 14.40625 51.78125 6.484375 \r\nQ 45.5625 -1.421875 35.59375 -1.421875 \r\nQ 29.59375 -1.421875 25.265625 0.953125 \r\nQ 20.953125 3.328125 18.109375 8.203125 \r\nL 18.109375 0 \r\nL 9.078125 0 \r\nL 9.078125 75.984375 \r\nL 18.109375 75.984375 \r\nz\r\n\" id=\"DejaVuSans-98\"/>\r\n       <path d=\"M 9.421875 54.6875 \r\nL 18.40625 54.6875 \r\nL 18.40625 0 \r\nL 9.421875 0 \r\nz\r\nM 9.421875 75.984375 \r\nL 18.40625 75.984375 \r\nL 18.40625 64.59375 \r\nL 9.421875 64.59375 \r\nz\r\n\" id=\"DejaVuSans-105\"/>\r\n       <path d=\"M 9.421875 75.984375 \r\nL 18.40625 75.984375 \r\nL 18.40625 0 \r\nL 9.421875 0 \r\nz\r\n\" id=\"DejaVuSans-108\"/>\r\n       <path d=\"M 56.203125 29.59375 \r\nL 56.203125 25.203125 \r\nL 14.890625 25.203125 \r\nQ 15.484375 15.921875 20.484375 11.0625 \r\nQ 25.484375 6.203125 34.421875 6.203125 \r\nQ 39.59375 6.203125 44.453125 7.46875 \r\nQ 49.3125 8.734375 54.109375 11.28125 \r\nL 54.109375 2.78125 \r\nQ 49.265625 0.734375 44.1875 -0.34375 \r\nQ 39.109375 -1.421875 33.890625 -1.421875 \r\nQ 20.796875 -1.421875 13.15625 6.1875 \r\nQ 5.515625 13.8125 5.515625 26.8125 \r\nQ 5.515625 40.234375 12.765625 48.109375 \r\nQ 20.015625 56 32.328125 56 \r\nQ 43.359375 56 49.78125 48.890625 \r\nQ 56.203125 41.796875 56.203125 29.59375 \r\nz\r\nM 47.21875 32.234375 \r\nQ 47.125 39.59375 43.09375 43.984375 \r\nQ 39.0625 48.390625 32.421875 48.390625 \r\nQ 24.90625 48.390625 20.390625 44.140625 \r\nQ 15.875 39.890625 15.1875 32.171875 \r\nz\r\n\" id=\"DejaVuSans-101\"/>\r\n      </defs>\r\n      <use xlink:href=\"#DejaVuSans-97\"/>\r\n      <use x=\"61.279297\" xlink:href=\"#DejaVuSans-117\"/>\r\n      <use x=\"124.658203\" xlink:href=\"#DejaVuSans-116\"/>\r\n      <use x=\"163.867188\" xlink:href=\"#DejaVuSans-111\"/>\r\n      <use x=\"225.048828\" xlink:href=\"#DejaVuSans-109\"/>\r\n      <use x=\"322.460938\" xlink:href=\"#DejaVuSans-111\"/>\r\n      <use x=\"383.642578\" xlink:href=\"#DejaVuSans-98\"/>\r\n      <use x=\"447.119141\" xlink:href=\"#DejaVuSans-105\"/>\r\n      <use x=\"474.902344\" xlink:href=\"#DejaVuSans-108\"/>\r\n      <use x=\"502.685547\" xlink:href=\"#DejaVuSans-101\"/>\r\n     </g>\r\n    </g>\r\n   </g>\r\n   <g id=\"matplotlib.axis_2\">\r\n    <g id=\"ytick_1\">\r\n     <g id=\"line2d_8\">\r\n      <defs>\r\n       <path d=\"M 0 0 \r\nL -3.5 0 \r\n\" id=\"m1c405f070d\" style=\"stroke:#000000;stroke-width:0.8;\"/>\r\n      </defs>\r\n      <g>\r\n       <use style=\"stroke:#000000;stroke-width:0.8;\" x=\"26.925\" xlink:href=\"#m1c405f070d\" y=\"10.999219\"/>\r\n      </g>\r\n     </g>\r\n     <g id=\"text_9\">\r\n      <!-- 0 -->\r\n      <g transform=\"translate(13.5625 14.798437)scale(0.1 -0.1)\">\r\n       <use xlink:href=\"#DejaVuSans-48\"/>\r\n      </g>\r\n     </g>\r\n    </g>\r\n    <g id=\"ytick_2\">\r\n     <g id=\"line2d_9\">\r\n      <g>\r\n       <use style=\"stroke:#000000;stroke-width:0.8;\" x=\"26.925\" xlink:href=\"#m1c405f070d\" y=\"44.974219\"/>\r\n      </g>\r\n     </g>\r\n     <g id=\"text_10\">\r\n      <!-- 5 -->\r\n      <g transform=\"translate(13.5625 48.773437)scale(0.1 -0.1)\">\r\n       <use xlink:href=\"#DejaVuSans-53\"/>\r\n      </g>\r\n     </g>\r\n    </g>\r\n    <g id=\"ytick_3\">\r\n     <g id=\"line2d_10\">\r\n      <g>\r\n       <use style=\"stroke:#000000;stroke-width:0.8;\" x=\"26.925\" xlink:href=\"#m1c405f070d\" y=\"78.949219\"/>\r\n      </g>\r\n     </g>\r\n     <g id=\"text_11\">\r\n      <!-- 10 -->\r\n      <g transform=\"translate(7.2 82.748437)scale(0.1 -0.1)\">\r\n       <use xlink:href=\"#DejaVuSans-49\"/>\r\n       <use x=\"63.623047\" xlink:href=\"#DejaVuSans-48\"/>\r\n      </g>\r\n     </g>\r\n    </g>\r\n    <g id=\"ytick_4\">\r\n     <g id=\"line2d_11\">\r\n      <g>\r\n       <use style=\"stroke:#000000;stroke-width:0.8;\" x=\"26.925\" xlink:href=\"#m1c405f070d\" y=\"112.924219\"/>\r\n      </g>\r\n     </g>\r\n     <g id=\"text_12\">\r\n      <!-- 15 -->\r\n      <g transform=\"translate(7.2 116.723437)scale(0.1 -0.1)\">\r\n       <use xlink:href=\"#DejaVuSans-49\"/>\r\n       <use x=\"63.623047\" xlink:href=\"#DejaVuSans-53\"/>\r\n      </g>\r\n     </g>\r\n    </g>\r\n    <g id=\"ytick_5\">\r\n     <g id=\"line2d_12\">\r\n      <g>\r\n       <use style=\"stroke:#000000;stroke-width:0.8;\" x=\"26.925\" xlink:href=\"#m1c405f070d\" y=\"146.899219\"/>\r\n      </g>\r\n     </g>\r\n     <g id=\"text_13\">\r\n      <!-- 20 -->\r\n      <g transform=\"translate(7.2 150.698437)scale(0.1 -0.1)\">\r\n       <use xlink:href=\"#DejaVuSans-50\"/>\r\n       <use x=\"63.623047\" xlink:href=\"#DejaVuSans-48\"/>\r\n      </g>\r\n     </g>\r\n    </g>\r\n    <g id=\"ytick_6\">\r\n     <g id=\"line2d_13\">\r\n      <g>\r\n       <use style=\"stroke:#000000;stroke-width:0.8;\" x=\"26.925\" xlink:href=\"#m1c405f070d\" y=\"180.874219\"/>\r\n      </g>\r\n     </g>\r\n     <g id=\"text_14\">\r\n      <!-- 25 -->\r\n      <g transform=\"translate(7.2 184.673437)scale(0.1 -0.1)\">\r\n       <use xlink:href=\"#DejaVuSans-50\"/>\r\n       <use x=\"63.623047\" xlink:href=\"#DejaVuSans-53\"/>\r\n      </g>\r\n     </g>\r\n    </g>\r\n    <g id=\"ytick_7\">\r\n     <g id=\"line2d_14\">\r\n      <g>\r\n       <use style=\"stroke:#000000;stroke-width:0.8;\" x=\"26.925\" xlink:href=\"#m1c405f070d\" y=\"214.849219\"/>\r\n      </g>\r\n     </g>\r\n     <g id=\"text_15\">\r\n      <!-- 30 -->\r\n      <g transform=\"translate(7.2 218.648437)scale(0.1 -0.1)\">\r\n       <use xlink:href=\"#DejaVuSans-51\"/>\r\n       <use x=\"63.623047\" xlink:href=\"#DejaVuSans-48\"/>\r\n      </g>\r\n     </g>\r\n    </g>\r\n   </g>\r\n   <g id=\"patch_3\">\r\n    <path d=\"M 26.925 225.041719 \r\nL 26.925 7.601719 \r\n\" style=\"fill:none;stroke:#000000;stroke-linecap:square;stroke-linejoin:miter;stroke-width:0.8;\"/>\r\n   </g>\r\n   <g id=\"patch_4\">\r\n    <path d=\"M 244.365 225.041719 \r\nL 244.365 7.601719 \r\n\" style=\"fill:none;stroke:#000000;stroke-linecap:square;stroke-linejoin:miter;stroke-width:0.8;\"/>\r\n   </g>\r\n   <g id=\"patch_5\">\r\n    <path d=\"M 26.925 225.041719 \r\nL 244.365 225.041719 \r\n\" style=\"fill:none;stroke:#000000;stroke-linecap:square;stroke-linejoin:miter;stroke-width:0.8;\"/>\r\n   </g>\r\n   <g id=\"patch_6\">\r\n    <path d=\"M 26.925 7.601719 \r\nL 244.365 7.601719 \r\n\" style=\"fill:none;stroke:#000000;stroke-linecap:square;stroke-linejoin:miter;stroke-width:0.8;\"/>\r\n   </g>\r\n  </g>\r\n </g>\r\n <defs>\r\n  <clipPath id=\"pece1be7b2b\">\r\n   <rect height=\"217.44\" width=\"217.44\" x=\"26.925\" y=\"7.601719\"/>\r\n  </clipPath>\r\n </defs>\r\n</svg>\r\n",
      "image/png": "[encoded data removed]"
     },
     "metadata": {
      "needs_background": "light"
     }
    }
   ],
   "source": [
    "def checkData(i):\n",
    "    plt.imshow(data[i])\n",
    "    plt.xlabel(categoris[lableId[i]])\n",
    "checkData(1410)"
   ]
  },
  {
   "cell_type": "code",
   "execution_count": 9,
   "metadata": {
    "tags": []
   },
   "outputs": [
    {
     "output_type": "stream",
     "name": "stdout",
     "text": [
      "5\n(40000, 32, 32, 3)\n(10000, 32, 32, 3)\n"
     ]
    }
   ],
   "source": [
    "dataSplitSize=5\n",
    "splitedData=np.array_split(data,dataSplitSize)\n",
    "splitedLable=np.array_split(lableId,dataSplitSize)\n",
    "print(len(splitedData))\n",
    "trainData=np.concatenate(splitedData[0:-1])\n",
    "trainLabels=np.concatenate(splitedLable[0:-1])\n",
    "print(trainData.shape)\n",
    "testData=splitedData[-1]\n",
    "testLabels=splitedLable[-1]\n",
    "print(testData.shape)"
   ]
  },
  {
   "cell_type": "code",
   "execution_count": 10,
   "metadata": {},
   "outputs": [
    {
     "output_type": "execute_result",
     "data": {
      "text/plain": [
       "array([[6],\n",
       "       [7],\n",
       "       [7],\n",
       "       ...,\n",
       "       [6],\n",
       "       [5],\n",
       "       [3]])"
      ]
     },
     "metadata": {},
     "execution_count": 10
    }
   ],
   "source": [
    "trainData=np.array(trainData)/255\n",
    "trainLabels=np.array(trainLabels,int)\n",
    "trainLabels.reshape(len(trainLabels),1)"
   ]
  },
  {
   "cell_type": "code",
   "execution_count": 11,
   "metadata": {},
   "outputs": [],
   "source": [
    "input_shape=(32,32,3)\n",
    "output_size=10\n",
    "hidden1=400\n",
    "hidden2=100"
   ]
  },
  {
   "cell_type": "code",
   "execution_count": 13,
   "metadata": {},
   "outputs": [
    {
     "output_type": "stream",
     "name": "stdout",
     "text": [
      "Model: \"sequential_1\"\n_________________________________________________________________\nLayer (type)                 Output Shape              Param #   \n=================================================================\nconv2d_4 (Conv2D)            (None, 30, 30, 32)        896       \n_________________________________________________________________\nconv2d_5 (Conv2D)            (None, 28, 28, 32)        9248      \n_________________________________________________________________\nmax_pooling2d_2 (MaxPooling2 (None, 14, 14, 32)        0         \n_________________________________________________________________\nconv2d_6 (Conv2D)            (None, 12, 12, 64)        18496     \n_________________________________________________________________\nconv2d_7 (Conv2D)            (None, 10, 10, 64)        36928     \n_________________________________________________________________\nmax_pooling2d_3 (MaxPooling2 (None, 5, 5, 64)          0         \n_________________________________________________________________\nflatten_1 (Flatten)          (None, 1600)              0         \n_________________________________________________________________\ndense_3 (Dense)              (None, 400)               640400    \n_________________________________________________________________\ndense_4 (Dense)              (None, 100)               40100     \n_________________________________________________________________\ndense_5 (Dense)              (None, 10)                1010      \n=================================================================\nTotal params: 747,078\nTrainable params: 747,078\nNon-trainable params: 0\n_________________________________________________________________\n"
     ]
    }
   ],
   "source": [
    "model = models.Sequential()\n",
    "\n",
    "#filter\n",
    "model.add(layers.Conv2D(filters=32,kernel_size=(3,3),kernel_initializer='he_uniform',activation='relu',input_shape=input_shape))\n",
    "model.add(layers.Conv2D(filters=32,kernel_size=(3,3),kernel_initializer='he_uniform',activation='relu'))\n",
    "model.add(layers.MaxPooling2D(pool_size=(2,2)))\n",
    "model.add(layers.Conv2D(filters=64,kernel_size=(3,3),kernel_initializer='he_uniform',activation='relu'))\n",
    "model.add(layers.Conv2D(filters=64,kernel_size=(3,3),kernel_initializer='he_uniform',activation='relu'))\n",
    "model.add(layers.MaxPooling2D(pool_size=(2,2)))\n",
    "#ann\n",
    "model.add(layers.Flatten())\n",
    "model.add(layers.Dense(hidden1, activation='relu'))\n",
    "model.add(layers.Dense(hidden2, activation='relu'))\n",
    "model.add(layers.Dense(output_size, activation='softmax'))\n",
    "model.summary()\n",
    "# model = models.Sequential()\n",
    "\n",
    "# model.add(layers.Conv2D(32, (3,3), kernel_initializer='he_uniform', padding='same', input_shape=(32,32,3)))\n",
    "# model.add(layers.Activation('relu'))\n",
    "# model.add(layers.BatchNormalization())\n",
    "\n",
    "# model.add(layers.Conv2D(64, (3,3), kernel_initializer='he_uniform', padding='same'))\n",
    "# model.add(layers.Activation('relu'))\n",
    "# model.add(layers.BatchNormalization())\n",
    "# model.add(layers.MaxPooling2D((2,2)))\n",
    "\n",
    "# model.add(layers.Conv2D(128, (3,3), kernel_initializer='he_uniform', padding='same'))\n",
    "# model.add(layers.Activation('relu'))\n",
    "# model.add(layers.BatchNormalization())\n",
    "# model.add(layers.MaxPooling2D((2,2)))\n",
    "\n",
    "# model.add(layers.Conv2D(128, (3,3), kernel_initializer='he_uniform', padding='same'))\n",
    "# model.add(layers.Activation('relu'))\n",
    "# model.add(layers.BatchNormalization())\n",
    "# model.add(layers.MaxPooling2D((2,2)))\n",
    "\n",
    "# model.add(layers.Flatten())\n",
    "# model.add(layers.Dense(32))\n",
    "# model.add(layers.Activation('relu'))\n",
    "# model.add(layers.Dense(10))\n",
    "# model.add(layers.Activation('softmax'))\n"
   ]
  },
  {
   "cell_type": "code",
   "execution_count": 14,
   "metadata": {},
   "outputs": [
    {
     "output_type": "stream",
     "name": "stdout",
     "text": [
      "Train on 40000 samples\n",
      "Epoch 1/15\n",
      "40000/40000 - 56s - loss: 1.5714 - acc: 0.4240\n",
      "Epoch 2/15\n",
      "40000/40000 - 41s - loss: 1.1348 - acc: 0.5971\n",
      "Epoch 3/15\n",
      "40000/40000 - 41s - loss: 0.9367 - acc: 0.6748\n",
      "Epoch 4/15\n",
      "40000/40000 - 41s - loss: 0.7820 - acc: 0.7270\n",
      "Epoch 5/15\n",
      "40000/40000 - 40s - loss: 0.6690 - acc: 0.7646\n",
      "Epoch 6/15\n",
      "40000/40000 - 42s - loss: 0.5538 - acc: 0.8048\n",
      "Epoch 7/15\n",
      "40000/40000 - 43s - loss: 0.4509 - acc: 0.8400\n",
      "Epoch 8/15\n",
      "40000/40000 - 43s - loss: 0.3550 - acc: 0.8746\n",
      "Epoch 9/15\n",
      "40000/40000 - 43s - loss: 0.2747 - acc: 0.9029\n",
      "Epoch 10/15\n",
      "40000/40000 - 42s - loss: 0.2019 - acc: 0.9283\n",
      "Epoch 11/15\n",
      "40000/40000 - 42s - loss: 0.1727 - acc: 0.9399\n",
      "Epoch 12/15\n",
      "40000/40000 - 42s - loss: 0.1318 - acc: 0.9535\n",
      "Epoch 13/15\n",
      "40000/40000 - 40s - loss: 0.1163 - acc: 0.9603\n",
      "Epoch 14/15\n",
      "40000/40000 - 40s - loss: 0.0924 - acc: 0.9688\n",
      "Epoch 15/15\n",
      "40000/40000 - 40s - loss: 0.0890 - acc: 0.9705\n"
     ]
    }
   ],
   "source": [
    "model.compile(loss= tf.keras.losses.sparse_categorical_crossentropy,\n",
    "              metrics=['accuracy'], optimizer='adam')\n",
    "model.fit(trainData, trainLabels, batch_size=128, epochs=15, verbose=2)\n",
    "model.save(path+\"\\\\trained.h5\")"
   ]
  },
  {
   "cell_type": "code",
   "execution_count": 15,
   "metadata": {},
   "outputs": [
    {
     "output_type": "stream",
     "name": "stdout",
     "text": [
      "40000/40000 [==============================] - 20s 491us/sample - loss: 0.0648 - acc: 0.9791\n"
     ]
    },
    {
     "output_type": "execute_result",
     "data": {
      "text/plain": [
       "[0.06477755846111104, 0.97907495]"
      ]
     },
     "metadata": {},
     "execution_count": 15
    }
   ],
   "source": [
    "model.evaluate(trainData, trainLabels)"
   ]
  },
  {
   "cell_type": "code",
   "execution_count": 16,
   "metadata": {},
   "outputs": [
    {
     "output_type": "stream",
     "name": "stdout",
     "text": [
      "10000/10000 [==============================] - 5s 500us/sample - loss: 14.9425 - acc: 0.6711\n"
     ]
    },
    {
     "output_type": "execute_result",
     "data": {
      "text/plain": [
       "[14.942464125061035, 0.67109996]"
      ]
     },
     "metadata": {},
     "execution_count": 16
    }
   ],
   "source": [
    "model.evaluate(testData, testLabels)"
   ]
  },
  {
   "cell_type": "code",
   "execution_count": null,
   "metadata": {},
   "outputs": [],
   "source": []
  }
 ]
}