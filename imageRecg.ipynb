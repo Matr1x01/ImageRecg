{
 "metadata": {
  "language_info": {
   "codemirror_mode": {
    "name": "ipython",
    "version": 3
   },
   "file_extension": ".py",
   "mimetype": "text/x-python",
   "name": "python",
   "nbconvert_exporter": "python",
   "pygments_lexer": "ipython3",
   "version": "3.8.5"
  },
  "orig_nbformat": 2,
  "kernelspec": {
   "name": "python385jvsc74a57bd0b3ba2566441a7c06988d0923437866b63cedc61552a5af99d1f4fb67d367b25f",
   "display_name": "Python 3.8.5 64-bit ('base': conda)"
  }
 },
 "nbformat": 4,
 "nbformat_minor": 2,
 "cells": [
  {
   "cell_type": "code",
   "execution_count": 4,
   "metadata": {},
   "outputs": [],
   "source": [
    "import numpy as np\n",
    "import matplotlib.pyplot as plt\n",
    "import cv2\n",
    "import tensorflow as tf\n",
    "from tensorflow.keras import models,layers\n",
    "import pandas as pd"
   ]
  },
  {
   "cell_type": "code",
   "execution_count": 5,
   "metadata": {},
   "outputs": [
    {
     "output_type": "execute_result",
     "data": {
      "text/plain": [
       "True"
      ]
     },
     "metadata": {},
     "execution_count": 5
    }
   ],
   "source": [
    "tf.test.is_gpu_available()"
   ]
  },
  {
   "cell_type": "code",
   "execution_count": 6,
   "metadata": {},
   "outputs": [],
   "source": [
    "path=r\"G:\\dataset\\cifar-10\""
   ]
  },
  {
   "cell_type": "code",
   "execution_count": 7,
   "metadata": {},
   "outputs": [],
   "source": [
    "lable=pd.read_csv(path+\"\\\\\"+\"trainLabels.csv\")\n",
    "keys=lable.keys()"
   ]
  },
  {
   "cell_type": "code",
   "execution_count": 8,
   "metadata": {},
   "outputs": [
    {
     "output_type": "execute_result",
     "data": {
      "text/plain": [
       "(50000, 32, 32, 3)"
      ]
     },
     "metadata": {},
     "execution_count": 8
    }
   ],
   "source": [
    "data=[]\n",
    "for i in lable['id']:\n",
    "    temp=cv2.imread(path+\"\\\\train\\\\\"+str(i)+\".png\")\n",
    "    data.append(temp)\n",
    "data=np.array(data)\n",
    "data.shape"
   ]
  },
  {
   "cell_type": "code",
   "execution_count": 9,
   "metadata": {},
   "outputs": [
    {
     "output_type": "execute_result",
     "data": {
      "text/plain": [
       "['airplane',\n",
       " 'cat',\n",
       " 'bird',\n",
       " 'horse',\n",
       " 'deer',\n",
       " 'truck',\n",
       " 'dog',\n",
       " 'automobile',\n",
       " 'ship',\n",
       " 'frog']"
      ]
     },
     "metadata": {},
     "execution_count": 9
    }
   ],
   "source": [
    "categoris=list(set(lable[keys[1]]))\n",
    "categoris"
   ]
  },
  {
   "cell_type": "code",
   "execution_count": 10,
   "metadata": {},
   "outputs": [
    {
     "output_type": "stream",
     "name": "stderr",
     "text": [
      "ipykernel_launcher:4: SettingWithCopyWarning: \nA value is trying to be set on a copy of a slice from a DataFrame\n\nSee the caveats in the documentation: https://pandas.pydata.org/pandas-docs/stable/user_guide/indexing.html#returning-a-view-versus-a-copy\n"
     ]
    }
   ],
   "source": [
    "for i in range(len(lable)):\n",
    "    for j in range(10):\n",
    "        if lable[keys[1]][i]==categoris[j]:\n",
    "            lable[keys[1]][i]=j"
   ]
  },
  {
   "cell_type": "code",
   "execution_count": 11,
   "metadata": {},
   "outputs": [
    {
     "output_type": "execute_result",
     "data": {
      "text/plain": [
       "array([[9],\n",
       "       [5],\n",
       "       [5],\n",
       "       ...,\n",
       "       [5],\n",
       "       [7],\n",
       "       [7]])"
      ]
     },
     "metadata": {},
     "execution_count": 11
    }
   ],
   "source": [
    "trainData=data/255\n",
    "trainLabels=np.array(lable[keys[1]],dtype=int)\n",
    "trainLabels.reshape(len(trainLabels),1)"
   ]
  },
  {
   "cell_type": "code",
   "execution_count": 8,
   "metadata": {},
   "outputs": [
    {
     "output_type": "display_data",
     "data": {
      "text/plain": "<Figure size 432x288 with 1 Axes>",
      "image/svg+xml": "<?xml version=\"1.0\" encoding=\"utf-8\" standalone=\"no\"?>\r\n<!DOCTYPE svg PUBLIC \"-//W3C//DTD SVG 1.1//EN\"\r\n  \"http://www.w3.org/Graphics/SVG/1.1/DTD/svg11.dtd\">\r\n<!-- Created with matplotlib (https://matplotlib.org/) -->\r\n<svg height=\"262.597969pt\" version=\"1.1\" viewBox=\"0 0 251.565 262.597969\" width=\"251.565pt\" xmlns=\"http://www.w3.org/2000/svg\" xmlns:xlink=\"http://www.w3.org/1999/xlink\">\r\n <metadata>\r\n  <rdf:RDF xmlns:cc=\"http://creativecommons.org/ns#\" xmlns:dc=\"http://purl.org/dc/elements/1.1/\" xmlns:rdf=\"http://www.w3.org/1999/02/22-rdf-syntax-ns#\">\r\n   <cc:Work>\r\n    <dc:type rdf:resource=\"http://purl.org/dc/dcmitype/StillImage\"/>\r\n    <dc:date>2021-04-09T05:55:04.177744</dc:date>\r\n    <dc:format>image/svg+xml</dc:format>\r\n    <dc:creator>\r\n     <cc:Agent>\r\n      <dc:title>Matplotlib v3.3.2, https://matplotlib.org/</dc:title>\r\n     </cc:Agent>\r\n    </dc:creator>\r\n   </cc:Work>\r\n  </rdf:RDF>\r\n </metadata>\r\n <defs>\r\n  <style type=\"text/css\">*{stroke-linecap:butt;stroke-linejoin:round;}</style>\r\n </defs>\r\n <g id=\"figure_1\">\r\n  <g id=\"patch_1\">\r\n   <path d=\"M 0 262.597969 \r\nL 251.565 262.597969 \r\nL 251.565 0 \r\nL 0 0 \r\nz\r\n\" style=\"fill:none;\"/>\r\n  </g>\r\n  <g id=\"axes_1\">\r\n   <g id=\"patch_2\">\r\n    <path d=\"M 26.925 225.041719 \r\nL 244.365 225.041719 \r\nL 244.365 7.601719 \r\nL 26.925 7.601719 \r\nz\r\n\" style=\"fill:#ffffff;\"/>\r\n   </g>\r\n   <g clip-path=\"url(#p119d5a0819)\">\r\n    <image height=\"218\" id=\"image1b7e3169cd\" transform=\"scale(1 -1)translate(0 -218)\" width=\"218\" x=\"26.925\" xlink:href=\"data:image/png;base64,\r\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\" y=\"-7.041719\"/>\r\n   </g>\r\n   <g id=\"matplotlib.axis_1\">\r\n    <g id=\"xtick_1\">\r\n     <g id=\"line2d_1\">\r\n      <defs>\r\n       <path d=\"M 0 0 \r\nL 0 3.5 \r\n\" id=\"mc297080042\" style=\"stroke:#000000;stroke-width:0.8;\"/>\r\n      </defs>\r\n      <g>\r\n       <use style=\"stroke:#000000;stroke-width:0.8;\" x=\"30.3225\" xlink:href=\"#mc297080042\" y=\"225.041719\"/>\r\n      </g>\r\n     </g>\r\n     <g id=\"text_1\">\r\n      <!-- 0 -->\r\n      <g transform=\"translate(27.14125 239.640156)scale(0.1 -0.1)\">\r\n       <defs>\r\n        <path d=\"M 31.78125 66.40625 \r\nQ 24.171875 66.40625 20.328125 58.90625 \r\nQ 16.5 51.421875 16.5 36.375 \r\nQ 16.5 21.390625 20.328125 13.890625 \r\nQ 24.171875 6.390625 31.78125 6.390625 \r\nQ 39.453125 6.390625 43.28125 13.890625 \r\nQ 47.125 21.390625 47.125 36.375 \r\nQ 47.125 51.421875 43.28125 58.90625 \r\nQ 39.453125 66.40625 31.78125 66.40625 \r\nz\r\nM 31.78125 74.21875 \r\nQ 44.046875 74.21875 50.515625 64.515625 \r\nQ 56.984375 54.828125 56.984375 36.375 \r\nQ 56.984375 17.96875 50.515625 8.265625 \r\nQ 44.046875 -1.421875 31.78125 -1.421875 \r\nQ 19.53125 -1.421875 13.0625 8.265625 \r\nQ 6.59375 17.96875 6.59375 36.375 \r\nQ 6.59375 54.828125 13.0625 64.515625 \r\nQ 19.53125 74.21875 31.78125 74.21875 \r\nz\r\n\" id=\"DejaVuSans-48\"/>\r\n       </defs>\r\n       <use xlink:href=\"#DejaVuSans-48\"/>\r\n      </g>\r\n     </g>\r\n    </g>\r\n    <g id=\"xtick_2\">\r\n     <g id=\"line2d_2\">\r\n      <g>\r\n       <use style=\"stroke:#000000;stroke-width:0.8;\" x=\"64.2975\" xlink:href=\"#mc297080042\" y=\"225.041719\"/>\r\n      </g>\r\n     </g>\r\n     <g id=\"text_2\">\r\n      <!-- 5 -->\r\n      <g transform=\"translate(61.11625 239.640156)scale(0.1 -0.1)\">\r\n       <defs>\r\n        <path d=\"M 10.796875 72.90625 \r\nL 49.515625 72.90625 \r\nL 49.515625 64.59375 \r\nL 19.828125 64.59375 \r\nL 19.828125 46.734375 \r\nQ 21.96875 47.46875 24.109375 47.828125 \r\nQ 26.265625 48.1875 28.421875 48.1875 \r\nQ 40.625 48.1875 47.75 41.5 \r\nQ 54.890625 34.8125 54.890625 23.390625 \r\nQ 54.890625 11.625 47.5625 5.09375 \r\nQ 40.234375 -1.421875 26.90625 -1.421875 \r\nQ 22.3125 -1.421875 17.546875 -0.640625 \r\nQ 12.796875 0.140625 7.71875 1.703125 \r\nL 7.71875 11.625 \r\nQ 12.109375 9.234375 16.796875 8.0625 \r\nQ 21.484375 6.890625 26.703125 6.890625 \r\nQ 35.15625 6.890625 40.078125 11.328125 \r\nQ 45.015625 15.765625 45.015625 23.390625 \r\nQ 45.015625 31 40.078125 35.4375 \r\nQ 35.15625 39.890625 26.703125 39.890625 \r\nQ 22.75 39.890625 18.8125 39.015625 \r\nQ 14.890625 38.140625 10.796875 36.28125 \r\nz\r\n\" id=\"DejaVuSans-53\"/>\r\n       </defs>\r\n       <use xlink:href=\"#DejaVuSans-53\"/>\r\n      </g>\r\n     </g>\r\n    </g>\r\n    <g id=\"xtick_3\">\r\n     <g id=\"line2d_3\">\r\n      <g>\r\n       <use style=\"stroke:#000000;stroke-width:0.8;\" x=\"98.2725\" xlink:href=\"#mc297080042\" y=\"225.041719\"/>\r\n      </g>\r\n     </g>\r\n     <g id=\"text_3\">\r\n      <!-- 10 -->\r\n      <g transform=\"translate(91.91 239.640156)scale(0.1 -0.1)\">\r\n       <defs>\r\n        <path d=\"M 12.40625 8.296875 \r\nL 28.515625 8.296875 \r\nL 28.515625 63.921875 \r\nL 10.984375 60.40625 \r\nL 10.984375 69.390625 \r\nL 28.421875 72.90625 \r\nL 38.28125 72.90625 \r\nL 38.28125 8.296875 \r\nL 54.390625 8.296875 \r\nL 54.390625 0 \r\nL 12.40625 0 \r\nz\r\n\" id=\"DejaVuSans-49\"/>\r\n       </defs>\r\n       <use xlink:href=\"#DejaVuSans-49\"/>\r\n       <use x=\"63.623047\" xlink:href=\"#DejaVuSans-48\"/>\r\n      </g>\r\n     </g>\r\n    </g>\r\n    <g id=\"xtick_4\">\r\n     <g id=\"line2d_4\">\r\n      <g>\r\n       <use style=\"stroke:#000000;stroke-width:0.8;\" x=\"132.2475\" xlink:href=\"#mc297080042\" y=\"225.041719\"/>\r\n      </g>\r\n     </g>\r\n     <g id=\"text_4\">\r\n      <!-- 15 -->\r\n      <g transform=\"translate(125.885 239.640156)scale(0.1 -0.1)\">\r\n       <use xlink:href=\"#DejaVuSans-49\"/>\r\n       <use x=\"63.623047\" xlink:href=\"#DejaVuSans-53\"/>\r\n      </g>\r\n     </g>\r\n    </g>\r\n    <g id=\"xtick_5\">\r\n     <g id=\"line2d_5\">\r\n      <g>\r\n       <use style=\"stroke:#000000;stroke-width:0.8;\" x=\"166.2225\" xlink:href=\"#mc297080042\" y=\"225.041719\"/>\r\n      </g>\r\n     </g>\r\n     <g id=\"text_5\">\r\n      <!-- 20 -->\r\n      <g transform=\"translate(159.86 239.640156)scale(0.1 -0.1)\">\r\n       <defs>\r\n        <path d=\"M 19.1875 8.296875 \r\nL 53.609375 8.296875 \r\nL 53.609375 0 \r\nL 7.328125 0 \r\nL 7.328125 8.296875 \r\nQ 12.9375 14.109375 22.625 23.890625 \r\nQ 32.328125 33.6875 34.8125 36.53125 \r\nQ 39.546875 41.84375 41.421875 45.53125 \r\nQ 43.3125 49.21875 43.3125 52.78125 \r\nQ 43.3125 58.59375 39.234375 62.25 \r\nQ 35.15625 65.921875 28.609375 65.921875 \r\nQ 23.96875 65.921875 18.8125 64.3125 \r\nQ 13.671875 62.703125 7.8125 59.421875 \r\nL 7.8125 69.390625 \r\nQ 13.765625 71.78125 18.9375 73 \r\nQ 24.125 74.21875 28.421875 74.21875 \r\nQ 39.75 74.21875 46.484375 68.546875 \r\nQ 53.21875 62.890625 53.21875 53.421875 \r\nQ 53.21875 48.921875 51.53125 44.890625 \r\nQ 49.859375 40.875 45.40625 35.40625 \r\nQ 44.1875 33.984375 37.640625 27.21875 \r\nQ 31.109375 20.453125 19.1875 8.296875 \r\nz\r\n\" id=\"DejaVuSans-50\"/>\r\n       </defs>\r\n       <use xlink:href=\"#DejaVuSans-50\"/>\r\n       <use x=\"63.623047\" xlink:href=\"#DejaVuSans-48\"/>\r\n      </g>\r\n     </g>\r\n    </g>\r\n    <g id=\"xtick_6\">\r\n     <g id=\"line2d_6\">\r\n      <g>\r\n       <use style=\"stroke:#000000;stroke-width:0.8;\" x=\"200.1975\" xlink:href=\"#mc297080042\" y=\"225.041719\"/>\r\n      </g>\r\n     </g>\r\n     <g id=\"text_6\">\r\n      <!-- 25 -->\r\n      <g transform=\"translate(193.835 239.640156)scale(0.1 -0.1)\">\r\n       <use xlink:href=\"#DejaVuSans-50\"/>\r\n       <use x=\"63.623047\" xlink:href=\"#DejaVuSans-53\"/>\r\n      </g>\r\n     </g>\r\n    </g>\r\n    <g id=\"xtick_7\">\r\n     <g id=\"line2d_7\">\r\n      <g>\r\n       <use style=\"stroke:#000000;stroke-width:0.8;\" x=\"234.1725\" xlink:href=\"#mc297080042\" y=\"225.041719\"/>\r\n      </g>\r\n     </g>\r\n     <g id=\"text_7\">\r\n      <!-- 30 -->\r\n      <g transform=\"translate(227.81 239.640156)scale(0.1 -0.1)\">\r\n       <defs>\r\n        <path d=\"M 40.578125 39.3125 \r\nQ 47.65625 37.796875 51.625 33 \r\nQ 55.609375 28.21875 55.609375 21.1875 \r\nQ 55.609375 10.40625 48.1875 4.484375 \r\nQ 40.765625 -1.421875 27.09375 -1.421875 \r\nQ 22.515625 -1.421875 17.65625 -0.515625 \r\nQ 12.796875 0.390625 7.625 2.203125 \r\nL 7.625 11.71875 \r\nQ 11.71875 9.328125 16.59375 8.109375 \r\nQ 21.484375 6.890625 26.8125 6.890625 \r\nQ 36.078125 6.890625 40.9375 10.546875 \r\nQ 45.796875 14.203125 45.796875 21.1875 \r\nQ 45.796875 27.640625 41.28125 31.265625 \r\nQ 36.765625 34.90625 28.71875 34.90625 \r\nL 20.21875 34.90625 \r\nL 20.21875 43.015625 \r\nL 29.109375 43.015625 \r\nQ 36.375 43.015625 40.234375 45.921875 \r\nQ 44.09375 48.828125 44.09375 54.296875 \r\nQ 44.09375 59.90625 40.109375 62.90625 \r\nQ 36.140625 65.921875 28.71875 65.921875 \r\nQ 24.65625 65.921875 20.015625 65.03125 \r\nQ 15.375 64.15625 9.8125 62.3125 \r\nL 9.8125 71.09375 \r\nQ 15.4375 72.65625 20.34375 73.4375 \r\nQ 25.25 74.21875 29.59375 74.21875 \r\nQ 40.828125 74.21875 47.359375 69.109375 \r\nQ 53.90625 64.015625 53.90625 55.328125 \r\nQ 53.90625 49.265625 50.4375 45.09375 \r\nQ 46.96875 40.921875 40.578125 39.3125 \r\nz\r\n\" id=\"DejaVuSans-51\"/>\r\n       </defs>\r\n       <use xlink:href=\"#DejaVuSans-51\"/>\r\n       <use x=\"63.623047\" xlink:href=\"#DejaVuSans-48\"/>\r\n      </g>\r\n     </g>\r\n    </g>\r\n    <g id=\"text_8\">\r\n     <!-- bird -->\r\n     <g transform=\"translate(125.939531 253.318281)scale(0.1 -0.1)\">\r\n      <defs>\r\n       <path d=\"M 48.6875 27.296875 \r\nQ 48.6875 37.203125 44.609375 42.84375 \r\nQ 40.53125 48.484375 33.40625 48.484375 \r\nQ 26.265625 48.484375 22.1875 42.84375 \r\nQ 18.109375 37.203125 18.109375 27.296875 \r\nQ 18.109375 17.390625 22.1875 11.75 \r\nQ 26.265625 6.109375 33.40625 6.109375 \r\nQ 40.53125 6.109375 44.609375 11.75 \r\nQ 48.6875 17.390625 48.6875 27.296875 \r\nz\r\nM 18.109375 46.390625 \r\nQ 20.953125 51.265625 25.265625 53.625 \r\nQ 29.59375 56 35.59375 56 \r\nQ 45.5625 56 51.78125 48.09375 \r\nQ 58.015625 40.1875 58.015625 27.296875 \r\nQ 58.015625 14.40625 51.78125 6.484375 \r\nQ 45.5625 -1.421875 35.59375 -1.421875 \r\nQ 29.59375 -1.421875 25.265625 0.953125 \r\nQ 20.953125 3.328125 18.109375 8.203125 \r\nL 18.109375 0 \r\nL 9.078125 0 \r\nL 9.078125 75.984375 \r\nL 18.109375 75.984375 \r\nz\r\n\" id=\"DejaVuSans-98\"/>\r\n       <path d=\"M 9.421875 54.6875 \r\nL 18.40625 54.6875 \r\nL 18.40625 0 \r\nL 9.421875 0 \r\nz\r\nM 9.421875 75.984375 \r\nL 18.40625 75.984375 \r\nL 18.40625 64.59375 \r\nL 9.421875 64.59375 \r\nz\r\n\" id=\"DejaVuSans-105\"/>\r\n       <path d=\"M 41.109375 46.296875 \r\nQ 39.59375 47.171875 37.8125 47.578125 \r\nQ 36.03125 48 33.890625 48 \r\nQ 26.265625 48 22.1875 43.046875 \r\nQ 18.109375 38.09375 18.109375 28.8125 \r\nL 18.109375 0 \r\nL 9.078125 0 \r\nL 9.078125 54.6875 \r\nL 18.109375 54.6875 \r\nL 18.109375 46.1875 \r\nQ 20.953125 51.171875 25.484375 53.578125 \r\nQ 30.03125 56 36.53125 56 \r\nQ 37.453125 56 38.578125 55.875 \r\nQ 39.703125 55.765625 41.0625 55.515625 \r\nz\r\n\" id=\"DejaVuSans-114\"/>\r\n       <path d=\"M 45.40625 46.390625 \r\nL 45.40625 75.984375 \r\nL 54.390625 75.984375 \r\nL 54.390625 0 \r\nL 45.40625 0 \r\nL 45.40625 8.203125 \r\nQ 42.578125 3.328125 38.25 0.953125 \r\nQ 33.9375 -1.421875 27.875 -1.421875 \r\nQ 17.96875 -1.421875 11.734375 6.484375 \r\nQ 5.515625 14.40625 5.515625 27.296875 \r\nQ 5.515625 40.1875 11.734375 48.09375 \r\nQ 17.96875 56 27.875 56 \r\nQ 33.9375 56 38.25 53.625 \r\nQ 42.578125 51.265625 45.40625 46.390625 \r\nz\r\nM 14.796875 27.296875 \r\nQ 14.796875 17.390625 18.875 11.75 \r\nQ 22.953125 6.109375 30.078125 6.109375 \r\nQ 37.203125 6.109375 41.296875 11.75 \r\nQ 45.40625 17.390625 45.40625 27.296875 \r\nQ 45.40625 37.203125 41.296875 42.84375 \r\nQ 37.203125 48.484375 30.078125 48.484375 \r\nQ 22.953125 48.484375 18.875 42.84375 \r\nQ 14.796875 37.203125 14.796875 27.296875 \r\nz\r\n\" id=\"DejaVuSans-100\"/>\r\n      </defs>\r\n      <use xlink:href=\"#DejaVuSans-98\"/>\r\n      <use x=\"63.476562\" xlink:href=\"#DejaVuSans-105\"/>\r\n      <use x=\"91.259766\" xlink:href=\"#DejaVuSans-114\"/>\r\n      <use x=\"130.623047\" xlink:href=\"#DejaVuSans-100\"/>\r\n     </g>\r\n    </g>\r\n   </g>\r\n   <g id=\"matplotlib.axis_2\">\r\n    <g id=\"ytick_1\">\r\n     <g id=\"line2d_8\">\r\n      <defs>\r\n       <path d=\"M 0 0 \r\nL -3.5 0 \r\n\" id=\"me73c0e1914\" style=\"stroke:#000000;stroke-width:0.8;\"/>\r\n      </defs>\r\n      <g>\r\n       <use style=\"stroke:#000000;stroke-width:0.8;\" x=\"26.925\" xlink:href=\"#me73c0e1914\" y=\"10.999219\"/>\r\n      </g>\r\n     </g>\r\n     <g id=\"text_9\">\r\n      <!-- 0 -->\r\n      <g transform=\"translate(13.5625 14.798437)scale(0.1 -0.1)\">\r\n       <use xlink:href=\"#DejaVuSans-48\"/>\r\n      </g>\r\n     </g>\r\n    </g>\r\n    <g id=\"ytick_2\">\r\n     <g id=\"line2d_9\">\r\n      <g>\r\n       <use style=\"stroke:#000000;stroke-width:0.8;\" x=\"26.925\" xlink:href=\"#me73c0e1914\" y=\"44.974219\"/>\r\n      </g>\r\n     </g>\r\n     <g id=\"text_10\">\r\n      <!-- 5 -->\r\n      <g transform=\"translate(13.5625 48.773437)scale(0.1 -0.1)\">\r\n       <use xlink:href=\"#DejaVuSans-53\"/>\r\n      </g>\r\n     </g>\r\n    </g>\r\n    <g id=\"ytick_3\">\r\n     <g id=\"line2d_10\">\r\n      <g>\r\n       <use style=\"stroke:#000000;stroke-width:0.8;\" x=\"26.925\" xlink:href=\"#me73c0e1914\" y=\"78.949219\"/>\r\n      </g>\r\n     </g>\r\n     <g id=\"text_11\">\r\n      <!-- 10 -->\r\n      <g transform=\"translate(7.2 82.748437)scale(0.1 -0.1)\">\r\n       <use xlink:href=\"#DejaVuSans-49\"/>\r\n       <use x=\"63.623047\" xlink:href=\"#DejaVuSans-48\"/>\r\n      </g>\r\n     </g>\r\n    </g>\r\n    <g id=\"ytick_4\">\r\n     <g id=\"line2d_11\">\r\n      <g>\r\n       <use style=\"stroke:#000000;stroke-width:0.8;\" x=\"26.925\" xlink:href=\"#me73c0e1914\" y=\"112.924219\"/>\r\n      </g>\r\n     </g>\r\n     <g id=\"text_12\">\r\n      <!-- 15 -->\r\n      <g transform=\"translate(7.2 116.723437)scale(0.1 -0.1)\">\r\n       <use xlink:href=\"#DejaVuSans-49\"/>\r\n       <use x=\"63.623047\" xlink:href=\"#DejaVuSans-53\"/>\r\n      </g>\r\n     </g>\r\n    </g>\r\n    <g id=\"ytick_5\">\r\n     <g id=\"line2d_12\">\r\n      <g>\r\n       <use style=\"stroke:#000000;stroke-width:0.8;\" x=\"26.925\" xlink:href=\"#me73c0e1914\" y=\"146.899219\"/>\r\n      </g>\r\n     </g>\r\n     <g id=\"text_13\">\r\n      <!-- 20 -->\r\n      <g transform=\"translate(7.2 150.698437)scale(0.1 -0.1)\">\r\n       <use xlink:href=\"#DejaVuSans-50\"/>\r\n       <use x=\"63.623047\" xlink:href=\"#DejaVuSans-48\"/>\r\n      </g>\r\n     </g>\r\n    </g>\r\n    <g id=\"ytick_6\">\r\n     <g id=\"line2d_13\">\r\n      <g>\r\n       <use style=\"stroke:#000000;stroke-width:0.8;\" x=\"26.925\" xlink:href=\"#me73c0e1914\" y=\"180.874219\"/>\r\n      </g>\r\n     </g>\r\n     <g id=\"text_14\">\r\n      <!-- 25 -->\r\n      <g transform=\"translate(7.2 184.673437)scale(0.1 -0.1)\">\r\n       <use xlink:href=\"#DejaVuSans-50\"/>\r\n       <use x=\"63.623047\" xlink:href=\"#DejaVuSans-53\"/>\r\n      </g>\r\n     </g>\r\n    </g>\r\n    <g id=\"ytick_7\">\r\n     <g id=\"line2d_14\">\r\n      <g>\r\n       <use style=\"stroke:#000000;stroke-width:0.8;\" x=\"26.925\" xlink:href=\"#me73c0e1914\" y=\"214.849219\"/>\r\n      </g>\r\n     </g>\r\n     <g id=\"text_15\">\r\n      <!-- 30 -->\r\n      <g transform=\"translate(7.2 218.648437)scale(0.1 -0.1)\">\r\n       <use xlink:href=\"#DejaVuSans-51\"/>\r\n       <use x=\"63.623047\" xlink:href=\"#DejaVuSans-48\"/>\r\n      </g>\r\n     </g>\r\n    </g>\r\n   </g>\r\n   <g id=\"patch_3\">\r\n    <path d=\"M 26.925 225.041719 \r\nL 26.925 7.601719 \r\n\" style=\"fill:none;stroke:#000000;stroke-linecap:square;stroke-linejoin:miter;stroke-width:0.8;\"/>\r\n   </g>\r\n   <g id=\"patch_4\">\r\n    <path d=\"M 244.365 225.041719 \r\nL 244.365 7.601719 \r\n\" style=\"fill:none;stroke:#000000;stroke-linecap:square;stroke-linejoin:miter;stroke-width:0.8;\"/>\r\n   </g>\r\n   <g id=\"patch_5\">\r\n    <path d=\"M 26.925 225.041719 \r\nL 244.365 225.041719 \r\n\" style=\"fill:none;stroke:#000000;stroke-linecap:square;stroke-linejoin:miter;stroke-width:0.8;\"/>\r\n   </g>\r\n   <g id=\"patch_6\">\r\n    <path d=\"M 26.925 7.601719 \r\nL 244.365 7.601719 \r\n\" style=\"fill:none;stroke:#000000;stroke-linecap:square;stroke-linejoin:miter;stroke-width:0.8;\"/>\r\n   </g>\r\n  </g>\r\n </g>\r\n <defs>\r\n  <clipPath id=\"p119d5a0819\">\r\n   <rect height=\"217.44\" width=\"217.44\" x=\"26.925\" y=\"7.601719\"/>\r\n  </clipPath>\r\n </defs>\r\n</svg>\r\n",
      "image/png": "[encoded data removed]"
     },
     "metadata": {
      "needs_background": "light"
     }
    }
   ],
   "source": [
    "def checkData(i):\n",
    "    plt.imshow(data[i])\n",
    "    plt.xlabel(categoris[trainLabels[i]])\n",
    "checkData(1110)\n"
   ]
  },
  {
   "cell_type": "code",
   "execution_count": 12,
   "metadata": {},
   "outputs": [],
   "source": [
    "input_shape=(32,32,3)\n",
    "output_size=10\n",
    "hidden1=64\n",
    "hidden2=32"
   ]
  },
  {
   "cell_type": "code",
   "execution_count": 13,
   "metadata": {},
   "outputs": [
    {
     "output_type": "stream",
     "name": "stdout",
     "text": [
      "WARNING:tensorflow:From C:\\Users\\Matrix\\.conda\\envs\\tf-amd\\lib\\site-packages\\tensorflow_core\\python\\ops\\resource_variable_ops.py:1630: calling BaseResourceVariable.__init__ (from tensorflow.python.ops.resource_variable_ops) with constraint is deprecated and will be removed in a future version.\n",
      "Instructions for updating:\n",
      "If using Keras pass *_constraint arguments to layers.\n",
      "Train on 50000 samples\n",
      "Epoch 1/10\n",
      "50000/50000 - 19s - loss: 1.6172 - acc: 0.4193\n",
      "Epoch 2/10\n",
      "50000/50000 - 19s - loss: 1.2633 - acc: 0.5548\n",
      "Epoch 3/10\n",
      "50000/50000 - 20s - loss: 1.1230 - acc: 0.6069\n",
      "Epoch 4/10\n",
      "50000/50000 - 20s - loss: 1.0319 - acc: 0.6397\n",
      "Epoch 5/10\n",
      "50000/50000 - 20s - loss: 0.9598 - acc: 0.6647\n",
      "Epoch 6/10\n",
      "50000/50000 - 19s - loss: 0.9044 - acc: 0.6866\n",
      "Epoch 7/10\n",
      "50000/50000 - 18s - loss: 0.8601 - acc: 0.7015\n",
      "Epoch 8/10\n",
      "50000/50000 - 20s - loss: 0.8227 - acc: 0.7163\n",
      "Epoch 9/10\n",
      "50000/50000 - 20s - loss: 0.7865 - acc: 0.7277\n",
      "Epoch 10/10\n",
      "50000/50000 - 19s - loss: 0.7485 - acc: 0.7413\n"
     ]
    }
   ],
   "source": [
    "model = models.Sequential()\n",
    "\n",
    "#filter\n",
    "model.add(layers.Conv2D(filters=32,kernel_size=(3,3),activation='relu',input_shape=input_shape))\n",
    "model.add(layers.MaxPool2D(pool_size=(2,2)))\n",
    "model.add(layers.Conv2D(filters=64,kernel_size=(3,3),activation='relu'))\n",
    "model.add(layers.MaxPool2D(pool_size=(2,2)))\n",
    "\n",
    "#ann\n",
    "model.add(layers.Flatten())\n",
    "model.add(layers.Dense(hidden1, activation='relu'))\n",
    "#model.add(layers.Dense(hidden2, activation='relu'))\n",
    "model.add(layers.Dense(output_size, activation='softmax'))\n",
    "\n",
    "model.compile(loss= tf.keras.losses.sparse_categorical_crossentropy,\n",
    "              metrics=['accuracy'], optimizer='adam')\n",
    "model.fit(trainData, trainLabels, batch_size=128, epochs=5, verbose=2)\n",
    "model.save(path+\"\\\\trained.h5\")\n",
    "\n",
    "# model= md.load_model(path+\"\\\\trained.h5\")"
   ]
  },
  {
   "cell_type": "code",
   "execution_count": null,
   "metadata": {},
   "outputs": [],
   "source": []
  }
 ]
}